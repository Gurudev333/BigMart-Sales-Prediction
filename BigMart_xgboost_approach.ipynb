{
 "cells": [
  {
   "cell_type": "code",
   "execution_count": 1,
   "metadata": {},
   "outputs": [],
   "source": [
    "#Step1 :Import all necessary librabries\n",
    "import pandas as pd \n",
    "import numpy as np\n",
    "import matplotlib.pyplot as plt\n",
    "from sklearn.preprocessing import LabelEncoder\n",
    "import sklearn.linear_model\n",
    "import sklearn.ensemble\n",
    "from sklearn.model_selection import train_test_split\n",
    "from sklearn.linear_model import LinearRegression\n",
    "from sklearn.metrics import mean_squared_error"
   ]
  },
  {
   "cell_type": "markdown",
   "metadata": {},
   "source": [
    "# Preprocessing"
   ]
  },
  {
   "cell_type": "code",
   "execution_count": 2,
   "metadata": {},
   "outputs": [
    {
     "name": "stdout",
     "output_type": "stream",
     "text": [
      "  Item_Identifier  Item_Weight Item_Fat_Content  Item_Visibility  \\\n",
      "0           FDA15         9.30          Low Fat         0.016047   \n",
      "1           DRC01         5.92          Regular         0.019278   \n",
      "2           FDN15        17.50          Low Fat         0.016760   \n",
      "3           FDX07        19.20          Regular         0.000000   \n",
      "4           NCD19         8.93          Low Fat         0.000000   \n",
      "\n",
      "               Item_Type  Item_MRP Outlet_Identifier  \\\n",
      "0                  Dairy  249.8092            OUT049   \n",
      "1            Soft Drinks   48.2692            OUT018   \n",
      "2                   Meat  141.6180            OUT049   \n",
      "3  Fruits and Vegetables  182.0950            OUT010   \n",
      "4              Household   53.8614            OUT013   \n",
      "\n",
      "   Outlet_Establishment_Year Outlet_Size Outlet_Location_Type  \\\n",
      "0                       1999      Medium               Tier 1   \n",
      "1                       2009      Medium               Tier 3   \n",
      "2                       1999      Medium               Tier 1   \n",
      "3                       1998         NaN               Tier 3   \n",
      "4                       1987        High               Tier 3   \n",
      "\n",
      "         Outlet_Type  Item_Outlet_Sales  \n",
      "0  Supermarket Type1          3735.1380  \n",
      "1  Supermarket Type2           443.4228  \n",
      "2  Supermarket Type1          2097.2700  \n",
      "3      Grocery Store           732.3800  \n",
      "4  Supermarket Type1           994.7052  \n"
     ]
    }
   ],
   "source": [
    "#Load trainSet and use header to known about trainset\n",
    "data=pd.read_csv('C:/Users/Gurudeo/Desktop/Personal/BigMart/data.csv')\n",
    "print(data.head())\n"
   ]
  },
  {
   "cell_type": "code",
   "execution_count": 3,
   "metadata": {},
   "outputs": [
    {
     "data": {
      "text/html": [
       "<div>\n",
       "<style scoped>\n",
       "    .dataframe tbody tr th:only-of-type {\n",
       "        vertical-align: middle;\n",
       "    }\n",
       "\n",
       "    .dataframe tbody tr th {\n",
       "        vertical-align: top;\n",
       "    }\n",
       "\n",
       "    .dataframe thead th {\n",
       "        text-align: right;\n",
       "    }\n",
       "</style>\n",
       "<table border=\"1\" class=\"dataframe\">\n",
       "  <thead>\n",
       "    <tr style=\"text-align: right;\">\n",
       "      <th></th>\n",
       "      <th>Item_Weight</th>\n",
       "      <th>Item_Visibility</th>\n",
       "      <th>Item_MRP</th>\n",
       "      <th>Outlet_Establishment_Year</th>\n",
       "      <th>Item_Outlet_Sales</th>\n",
       "    </tr>\n",
       "  </thead>\n",
       "  <tbody>\n",
       "    <tr>\n",
       "      <th>count</th>\n",
       "      <td>7060.000000</td>\n",
       "      <td>8523.000000</td>\n",
       "      <td>8523.000000</td>\n",
       "      <td>8523.000000</td>\n",
       "      <td>8523.000000</td>\n",
       "    </tr>\n",
       "    <tr>\n",
       "      <th>mean</th>\n",
       "      <td>12.857645</td>\n",
       "      <td>0.066132</td>\n",
       "      <td>140.992782</td>\n",
       "      <td>1997.831867</td>\n",
       "      <td>2181.288914</td>\n",
       "    </tr>\n",
       "    <tr>\n",
       "      <th>std</th>\n",
       "      <td>4.643456</td>\n",
       "      <td>0.051598</td>\n",
       "      <td>62.275067</td>\n",
       "      <td>8.371760</td>\n",
       "      <td>1706.499616</td>\n",
       "    </tr>\n",
       "    <tr>\n",
       "      <th>min</th>\n",
       "      <td>4.555000</td>\n",
       "      <td>0.000000</td>\n",
       "      <td>31.290000</td>\n",
       "      <td>1985.000000</td>\n",
       "      <td>33.290000</td>\n",
       "    </tr>\n",
       "    <tr>\n",
       "      <th>25%</th>\n",
       "      <td>8.773750</td>\n",
       "      <td>0.026989</td>\n",
       "      <td>93.826500</td>\n",
       "      <td>1987.000000</td>\n",
       "      <td>834.247400</td>\n",
       "    </tr>\n",
       "    <tr>\n",
       "      <th>50%</th>\n",
       "      <td>12.600000</td>\n",
       "      <td>0.053931</td>\n",
       "      <td>143.012800</td>\n",
       "      <td>1999.000000</td>\n",
       "      <td>1794.331000</td>\n",
       "    </tr>\n",
       "    <tr>\n",
       "      <th>75%</th>\n",
       "      <td>16.850000</td>\n",
       "      <td>0.094585</td>\n",
       "      <td>185.643700</td>\n",
       "      <td>2004.000000</td>\n",
       "      <td>3101.296400</td>\n",
       "    </tr>\n",
       "    <tr>\n",
       "      <th>max</th>\n",
       "      <td>21.350000</td>\n",
       "      <td>0.328391</td>\n",
       "      <td>266.888400</td>\n",
       "      <td>2009.000000</td>\n",
       "      <td>13086.964800</td>\n",
       "    </tr>\n",
       "  </tbody>\n",
       "</table>\n",
       "</div>"
      ],
      "text/plain": [
       "       Item_Weight  Item_Visibility     Item_MRP  Outlet_Establishment_Year  \\\n",
       "count  7060.000000      8523.000000  8523.000000                8523.000000   \n",
       "mean     12.857645         0.066132   140.992782                1997.831867   \n",
       "std       4.643456         0.051598    62.275067                   8.371760   \n",
       "min       4.555000         0.000000    31.290000                1985.000000   \n",
       "25%       8.773750         0.026989    93.826500                1987.000000   \n",
       "50%      12.600000         0.053931   143.012800                1999.000000   \n",
       "75%      16.850000         0.094585   185.643700                2004.000000   \n",
       "max      21.350000         0.328391   266.888400                2009.000000   \n",
       "\n",
       "       Item_Outlet_Sales  \n",
       "count        8523.000000  \n",
       "mean         2181.288914  \n",
       "std          1706.499616  \n",
       "min            33.290000  \n",
       "25%           834.247400  \n",
       "50%          1794.331000  \n",
       "75%          3101.296400  \n",
       "max         13086.964800  "
      ]
     },
     "execution_count": 3,
     "metadata": {},
     "output_type": "execute_result"
    }
   ],
   "source": [
    "#describe dataset\n",
    "data.describe()\n"
   ]
  },
  {
   "cell_type": "code",
   "execution_count": 4,
   "metadata": {},
   "outputs": [
    {
     "data": {
      "text/plain": [
       "Low Fat    5089\n",
       "Regular    2889\n",
       "LF          316\n",
       "reg         117\n",
       "low fat     112\n",
       "Name: Item_Fat_Content, dtype: int64"
      ]
     },
     "execution_count": 4,
     "metadata": {},
     "output_type": "execute_result"
    }
   ],
   "source": [
    "#Lets\n",
    "data.Item_Fat_Content.value_counts()"
   ]
  },
  {
   "cell_type": "code",
   "execution_count": 5,
   "metadata": {},
   "outputs": [
    {
     "data": {
      "text/plain": [
       "Fruits and Vegetables    1232\n",
       "Snack Foods              1200\n",
       "Household                 910\n",
       "Frozen Foods              856\n",
       "Dairy                     682\n",
       "Canned                    649\n",
       "Baking Goods              648\n",
       "Health and Hygiene        520\n",
       "Soft Drinks               445\n",
       "Meat                      425\n",
       "Breads                    251\n",
       "Hard Drinks               214\n",
       "Others                    169\n",
       "Starchy Foods             148\n",
       "Breakfast                 110\n",
       "Seafood                    64\n",
       "Name: Item_Type, dtype: int64"
      ]
     },
     "execution_count": 5,
     "metadata": {},
     "output_type": "execute_result"
    }
   ],
   "source": [
    "data.Item_Type.value_counts()\n"
   ]
  },
  {
   "cell_type": "code",
   "execution_count": 6,
   "metadata": {},
   "outputs": [
    {
     "data": {
      "text/plain": [
       "Medium    2793\n",
       "Small     2388\n",
       "High       932\n",
       "Name: Outlet_Size, dtype: int64"
      ]
     },
     "execution_count": 6,
     "metadata": {},
     "output_type": "execute_result"
    }
   ],
   "source": [
    "data.Outlet_Size.value_counts()\n"
   ]
  },
  {
   "cell_type": "code",
   "execution_count": 7,
   "metadata": {},
   "outputs": [
    {
     "data": {
      "text/plain": [
       "Supermarket Type1    5577\n",
       "Grocery Store        1083\n",
       "Supermarket Type3     935\n",
       "Supermarket Type2     928\n",
       "Name: Outlet_Type, dtype: int64"
      ]
     },
     "execution_count": 7,
     "metadata": {},
     "output_type": "execute_result"
    }
   ],
   "source": [
    "data.Outlet_Type.value_counts()\n"
   ]
  },
  {
   "cell_type": "code",
   "execution_count": 8,
   "metadata": {},
   "outputs": [
    {
     "data": {
      "text/plain": [
       "Tier 3    3350\n",
       "Tier 2    2785\n",
       "Tier 1    2388\n",
       "Name: Outlet_Location_Type, dtype: int64"
      ]
     },
     "execution_count": 8,
     "metadata": {},
     "output_type": "execute_result"
    }
   ],
   "source": [
    "data.Outlet_Location_Type.value_counts()\n"
   ]
  },
  {
   "cell_type": "code",
   "execution_count": 9,
   "metadata": {},
   "outputs": [],
   "source": [
    "data_Missing=data.isnull().sum()\n"
   ]
  },
  {
   "cell_type": "code",
   "execution_count": 10,
   "metadata": {},
   "outputs": [
    {
     "data": {
      "text/plain": [
       "Item_Identifier                 0\n",
       "Item_Weight                  1463\n",
       "Item_Fat_Content                0\n",
       "Item_Visibility                 0\n",
       "Item_Type                       0\n",
       "Item_MRP                        0\n",
       "Outlet_Identifier               0\n",
       "Outlet_Establishment_Year       0\n",
       "Outlet_Size                  2410\n",
       "Outlet_Location_Type            0\n",
       "Outlet_Type                     0\n",
       "Item_Outlet_Sales               0\n",
       "dtype: int64"
      ]
     },
     "execution_count": 10,
     "metadata": {},
     "output_type": "execute_result"
    }
   ],
   "source": [
    "data_Missing"
   ]
  },
  {
   "cell_type": "code",
   "execution_count": 11,
   "metadata": {},
   "outputs": [
    {
     "data": {
      "image/png": "[encoded data removed]",
      "text/plain": [
       "<matplotlib.figure.Figure at 0x18b314d0f0>"
      ]
     },
     "metadata": {},
     "output_type": "display_data"
    }
   ],
   "source": [
    "#filling value of Outlet_Size.\n",
    "#Hypothesis: Outlet_Size depends on Oulet Type and Outlet__Location_Type\n",
    "plt.scatter(data['Outlet_Size'],data['Outlet_Type'])\n",
    "plt.show()\n",
    "#from"
   ]
  },
  {
   "cell_type": "code",
   "execution_count": 12,
   "metadata": {},
   "outputs": [
    {
     "data": {
      "text/html": [
       "<div>\n",
       "<style scoped>\n",
       "    .dataframe tbody tr th:only-of-type {\n",
       "        vertical-align: middle;\n",
       "    }\n",
       "\n",
       "    .dataframe tbody tr th {\n",
       "        vertical-align: top;\n",
       "    }\n",
       "\n",
       "    .dataframe thead th {\n",
       "        text-align: right;\n",
       "    }\n",
       "</style>\n",
       "<table border=\"1\" class=\"dataframe\">\n",
       "  <thead>\n",
       "    <tr style=\"text-align: right;\">\n",
       "      <th>Outlet_Type</th>\n",
       "      <th>Grocery Store</th>\n",
       "      <th>Supermarket Type1</th>\n",
       "      <th>Supermarket Type2</th>\n",
       "      <th>Supermarket Type3</th>\n",
       "    </tr>\n",
       "    <tr>\n",
       "      <th>Outlet_Size</th>\n",
       "      <th></th>\n",
       "      <th></th>\n",
       "      <th></th>\n",
       "      <th></th>\n",
       "    </tr>\n",
       "  </thead>\n",
       "  <tbody>\n",
       "    <tr>\n",
       "      <th>High</th>\n",
       "      <td>0</td>\n",
       "      <td>932</td>\n",
       "      <td>0</td>\n",
       "      <td>0</td>\n",
       "    </tr>\n",
       "    <tr>\n",
       "      <th>Medium</th>\n",
       "      <td>0</td>\n",
       "      <td>930</td>\n",
       "      <td>928</td>\n",
       "      <td>935</td>\n",
       "    </tr>\n",
       "    <tr>\n",
       "      <th>Small</th>\n",
       "      <td>528</td>\n",
       "      <td>1860</td>\n",
       "      <td>0</td>\n",
       "      <td>0</td>\n",
       "    </tr>\n",
       "  </tbody>\n",
       "</table>\n",
       "</div>"
      ],
      "text/plain": [
       "Outlet_Type  Grocery Store  Supermarket Type1  Supermarket Type2  \\\n",
       "Outlet_Size                                                        \n",
       "High                     0                932                  0   \n",
       "Medium                   0                930                928   \n",
       "Small                  528               1860                  0   \n",
       "\n",
       "Outlet_Type  Supermarket Type3  \n",
       "Outlet_Size                     \n",
       "High                         0  \n",
       "Medium                     935  \n",
       "Small                        0  "
      ]
     },
     "execution_count": 12,
     "metadata": {},
     "output_type": "execute_result"
    }
   ],
   "source": [
    "twowaytable=pd.crosstab(data['Outlet_Size'],data['Outlet_Type'])\n",
    "twowaytable"
   ]
  },
  {
   "cell_type": "code",
   "execution_count": 13,
   "metadata": {},
   "outputs": [],
   "source": [
    "#From above plot and table we can assume that Glacceray shops are of small size\n",
    "#SO map Glocessary Shop and Size\n"
   ]
  },
  {
   "cell_type": "code",
   "execution_count": 14,
   "metadata": {},
   "outputs": [],
   "source": [
    "d={'Grocery Store':'Small'}\n",
    "s=data.Outlet_Type.map(d)\n",
    "data.Outlet_Size=data.Outlet_Size.combine_first(s)\n"
   ]
  },
  {
   "cell_type": "code",
   "execution_count": null,
   "metadata": {},
   "outputs": [],
   "source": []
  },
  {
   "cell_type": "code",
   "execution_count": 15,
   "metadata": {},
   "outputs": [
    {
     "data": {
      "image/png": "[encoded data removed]",
      "text/plain": [
       "<matplotlib.figure.Figure at 0x18af68e860>"
      ]
     },
     "metadata": {},
     "output_type": "display_data"
    }
   ],
   "source": [
    "plt.scatter(data['Outlet_Size'],data['Outlet_Location_Type'])\n",
    "plt.show()\n"
   ]
  },
  {
   "cell_type": "code",
   "execution_count": 16,
   "metadata": {},
   "outputs": [
    {
     "data": {
      "text/html": [
       "<div>\n",
       "<style scoped>\n",
       "    .dataframe tbody tr th:only-of-type {\n",
       "        vertical-align: middle;\n",
       "    }\n",
       "\n",
       "    .dataframe tbody tr th {\n",
       "        vertical-align: top;\n",
       "    }\n",
       "\n",
       "    .dataframe thead th {\n",
       "        text-align: right;\n",
       "    }\n",
       "</style>\n",
       "<table border=\"1\" class=\"dataframe\">\n",
       "  <thead>\n",
       "    <tr style=\"text-align: right;\">\n",
       "      <th>Outlet_Location_Type</th>\n",
       "      <th>Tier 1</th>\n",
       "      <th>Tier 2</th>\n",
       "      <th>Tier 3</th>\n",
       "    </tr>\n",
       "    <tr>\n",
       "      <th>Outlet_Size</th>\n",
       "      <th></th>\n",
       "      <th></th>\n",
       "      <th></th>\n",
       "    </tr>\n",
       "  </thead>\n",
       "  <tbody>\n",
       "    <tr>\n",
       "      <th>High</th>\n",
       "      <td>0</td>\n",
       "      <td>0</td>\n",
       "      <td>932</td>\n",
       "    </tr>\n",
       "    <tr>\n",
       "      <th>Medium</th>\n",
       "      <td>930</td>\n",
       "      <td>0</td>\n",
       "      <td>1863</td>\n",
       "    </tr>\n",
       "    <tr>\n",
       "      <th>Small</th>\n",
       "      <td>1458</td>\n",
       "      <td>930</td>\n",
       "      <td>555</td>\n",
       "    </tr>\n",
       "  </tbody>\n",
       "</table>\n",
       "</div>"
      ],
      "text/plain": [
       "Outlet_Location_Type  Tier 1  Tier 2  Tier 3\n",
       "Outlet_Size                                 \n",
       "High                       0       0     932\n",
       "Medium                   930       0    1863\n",
       "Small                   1458     930     555"
      ]
     },
     "execution_count": 16,
     "metadata": {},
     "output_type": "execute_result"
    }
   ],
   "source": [
    "twowaytable=pd.crosstab(data['Outlet_Size'],data['Outlet_Location_Type'])\n",
    "twowaytable\n"
   ]
  },
  {
   "cell_type": "code",
   "execution_count": 17,
   "metadata": {},
   "outputs": [],
   "source": [
    "#From plot and table we conclude that Tier 2 is of size small .\n",
    "#So map Tier 2 and Size\n"
   ]
  },
  {
   "cell_type": "code",
   "execution_count": 18,
   "metadata": {},
   "outputs": [],
   "source": [
    "d={'Tier 2':'Small'}\n",
    "s=data.Outlet_Location_Type.map(d)\n",
    "data.Outlet_Size=data.Outlet_Size.combine_first(s)\n"
   ]
  },
  {
   "cell_type": "code",
   "execution_count": 19,
   "metadata": {},
   "outputs": [
    {
     "data": {
      "text/plain": [
       "False"
      ]
     },
     "execution_count": 19,
     "metadata": {},
     "output_type": "execute_result"
    }
   ],
   "source": [
    "data.Outlet_Size.isnull().any()\n",
    "\n"
   ]
  },
  {
   "cell_type": "code",
   "execution_count": 20,
   "metadata": {},
   "outputs": [],
   "source": [
    "#Fill missing values of weight of Item According to means of Item Identifier"
   ]
  },
  {
   "cell_type": "code",
   "execution_count": 21,
   "metadata": {},
   "outputs": [],
   "source": [
    "data['Item_Weight']=data['Item_Weight'].fillna(data.groupby('Item_Identifier')['Item_Weight'].transform('mean'))\n"
   ]
  },
  {
   "cell_type": "code",
   "execution_count": 22,
   "metadata": {},
   "outputs": [
    {
     "data": {
      "text/plain": [
       "4"
      ]
     },
     "execution_count": 22,
     "metadata": {},
     "output_type": "execute_result"
    }
   ],
   "source": [
    "data.Item_Weight.isnull().sum()\n"
   ]
  },
  {
   "cell_type": "code",
   "execution_count": 23,
   "metadata": {},
   "outputs": [],
   "source": [
    "#fill Item_Weigth by theire corresponding Item_Type\n",
    "List=['Baking Goods','Breads','Breakfast','Canned','Dairy','Frozen Foods','Fruits and Vegetables','Hard Drinks','Health and Hygiene','Household','Meat','Others','Seafood','Snack Foods','Soft Drinks','Starchy Foods']\n",
    "Mean_values_Item_Type_data=data.groupby('Item_Type')['Item_Weight'].mean()\n",
    "for i in List:\n",
    "    d={i:Mean_values_Item_Type_data[i]}\n",
    "    s=data.Item_Type.map(d)\n",
    "    data.Item_Weight=data.Item_Weight.combine_first(s)\n",
    "Mean_values_Item_Type_data=data.groupby('Item_Type')['Item_Weight'].mean()\n"
   ]
  },
  {
   "cell_type": "code",
   "execution_count": 24,
   "metadata": {},
   "outputs": [
    {
     "data": {
      "text/plain": [
       "False"
      ]
     },
     "execution_count": 24,
     "metadata": {},
     "output_type": "execute_result"
    }
   ],
   "source": [
    "data.Item_Weight.isnull().any()"
   ]
  },
  {
   "cell_type": "code",
   "execution_count": 25,
   "metadata": {
    "scrolled": true
   },
   "outputs": [
    {
     "data": {
      "text/plain": [
       "0.000000    526\n",
       "0.076975      3\n",
       "0.041283      2\n",
       "0.085622      2\n",
       "0.187841      2\n",
       "0.134976      2\n",
       "0.107224      2\n",
       "0.085275      2\n",
       "0.076856      2\n",
       "0.059836      2\n",
       "0.112203      2\n",
       "0.044024      2\n",
       "0.072253      2\n",
       "0.061271      2\n",
       "0.061164      2\n",
       "0.145266      2\n",
       "0.081097      2\n",
       "0.071958      2\n",
       "0.103442      2\n",
       "0.074613      2\n",
       "0.072655      2\n",
       "0.071833      2\n",
       "0.136286      2\n",
       "0.041355      2\n",
       "0.026950      2\n",
       "0.013952      2\n",
       "0.160624      2\n",
       "0.080640      2\n",
       "0.097611      2\n",
       "0.096592      2\n",
       "           ... \n",
       "0.100641      1\n",
       "0.122735      1\n",
       "0.099024      1\n",
       "0.054600      1\n",
       "0.118859      1\n",
       "0.162572      1\n",
       "0.076745      1\n",
       "0.015461      1\n",
       "0.057655      1\n",
       "0.042113      1\n",
       "0.029565      1\n",
       "0.066447      1\n",
       "0.035954      1\n",
       "0.083222      1\n",
       "0.021413      1\n",
       "0.030921      1\n",
       "0.081119      1\n",
       "0.052811      1\n",
       "0.118080      1\n",
       "0.046654      1\n",
       "0.021469      1\n",
       "0.060134      1\n",
       "0.096658      1\n",
       "0.019064      1\n",
       "0.164197      1\n",
       "0.092576      1\n",
       "0.067544      1\n",
       "0.115168      1\n",
       "0.146896      1\n",
       "0.050902      1\n",
       "Name: Item_Visibility, Length: 7880, dtype: int64"
      ]
     },
     "execution_count": 25,
     "metadata": {},
     "output_type": "execute_result"
    }
   ],
   "source": [
    "data.Item_Visibility.value_counts()\n"
   ]
  },
  {
   "cell_type": "code",
   "execution_count": 26,
   "metadata": {},
   "outputs": [
    {
     "data": {
      "text/plain": [
       "0       0.016047\n",
       "1       0.019278\n",
       "2       0.016760\n",
       "3       0.000000\n",
       "4       0.000000\n",
       "5       0.000000\n",
       "6       0.012741\n",
       "7       0.127470\n",
       "8       0.016687\n",
       "9       0.094450\n",
       "10      0.000000\n",
       "11      0.045464\n",
       "12      0.100014\n",
       "13      0.047257\n",
       "14      0.068024\n",
       "15      0.069089\n",
       "16      0.008596\n",
       "17      0.069196\n",
       "18      0.034238\n",
       "19      0.102492\n",
       "20      0.138190\n",
       "21      0.035400\n",
       "22      0.025698\n",
       "23      0.057557\n",
       "24      0.025896\n",
       "25      0.099887\n",
       "26      0.066693\n",
       "27      0.019356\n",
       "28      0.161467\n",
       "29      0.072222\n",
       "          ...   \n",
       "8493    0.025886\n",
       "8494    0.000000\n",
       "8495    0.029567\n",
       "8496    0.021696\n",
       "8497    0.049209\n",
       "8498    0.035293\n",
       "8499    0.037574\n",
       "8500    0.000000\n",
       "8501    0.005998\n",
       "8502    0.070712\n",
       "8503    0.036133\n",
       "8504    0.124111\n",
       "8505    0.094146\n",
       "8506    0.084676\n",
       "8507    0.030242\n",
       "8508    0.043246\n",
       "8509    0.214306\n",
       "8510    0.056862\n",
       "8511    0.026980\n",
       "8512    0.042801\n",
       "8513    0.020407\n",
       "8514    0.054489\n",
       "8515    0.021518\n",
       "8516    0.118661\n",
       "8517    0.083607\n",
       "8518    0.056783\n",
       "8519    0.046982\n",
       "8520    0.035186\n",
       "8521    0.145221\n",
       "8522    0.044878\n",
       "Name: Item_Visibility, Length: 8523, dtype: float64"
      ]
     },
     "execution_count": 26,
     "metadata": {},
     "output_type": "execute_result"
    }
   ],
   "source": [
    "#From above observations therir are many zeros for item_Visiblity which not possible so \n",
    "#fill by corresponding means of Item_Identifiers\n",
    "data['Item_Visibility'].replace(0.00000,np.nan)#first fill by nam for simplicity\n",
    "data['Item_Visibility'].fillna(data.groupby('Item_Identifier')['Item_Visibility'].transform('mean'))\n"
   ]
  },
  {
   "cell_type": "code",
   "execution_count": 27,
   "metadata": {},
   "outputs": [
    {
     "data": {
      "text/plain": [
       "0       0.016047\n",
       "1       0.019278\n",
       "2       0.016760\n",
       "3       0.000000\n",
       "4       0.000000\n",
       "5       0.000000\n",
       "6       0.012741\n",
       "7       0.127470\n",
       "8       0.016687\n",
       "9       0.094450\n",
       "10      0.000000\n",
       "11      0.045464\n",
       "12      0.100014\n",
       "13      0.047257\n",
       "14      0.068024\n",
       "15      0.069089\n",
       "16      0.008596\n",
       "17      0.069196\n",
       "18      0.034238\n",
       "19      0.102492\n",
       "20      0.138190\n",
       "21      0.035400\n",
       "22      0.025698\n",
       "23      0.057557\n",
       "24      0.025896\n",
       "25      0.099887\n",
       "26      0.066693\n",
       "27      0.019356\n",
       "28      0.161467\n",
       "29      0.072222\n",
       "          ...   \n",
       "8493    0.025886\n",
       "8494    0.000000\n",
       "8495    0.029567\n",
       "8496    0.021696\n",
       "8497    0.049209\n",
       "8498    0.035293\n",
       "8499    0.037574\n",
       "8500    0.000000\n",
       "8501    0.005998\n",
       "8502    0.070712\n",
       "8503    0.036133\n",
       "8504    0.124111\n",
       "8505    0.094146\n",
       "8506    0.084676\n",
       "8507    0.030242\n",
       "8508    0.043246\n",
       "8509    0.214306\n",
       "8510    0.056862\n",
       "8511    0.026980\n",
       "8512    0.042801\n",
       "8513    0.020407\n",
       "8514    0.054489\n",
       "8515    0.021518\n",
       "8516    0.118661\n",
       "8517    0.083607\n",
       "8518    0.056783\n",
       "8519    0.046982\n",
       "8520    0.035186\n",
       "8521    0.145221\n",
       "8522    0.044878\n",
       "Name: Item_Visibility, Length: 8523, dtype: float64"
      ]
     },
     "execution_count": 27,
     "metadata": {},
     "output_type": "execute_result"
    }
   ],
   "source": [
    "data['Item_Visibility'].fillna(data.groupby('Item_Identifier')['Item_Visibility'].transform('mean'))\n"
   ]
  },
  {
   "cell_type": "code",
   "execution_count": 28,
   "metadata": {},
   "outputs": [
    {
     "data": {
      "text/plain": [
       "False"
      ]
     },
     "execution_count": 28,
     "metadata": {},
     "output_type": "execute_result"
    }
   ],
   "source": [
    "data.Item_Visibility.isnull().any()"
   ]
  },
  {
   "cell_type": "markdown",
   "metadata": {
    "collapsed": true
   },
   "source": [
    "# Feature Engineering\n"
   ]
  },
  {
   "cell_type": "code",
   "execution_count": 29,
   "metadata": {},
   "outputs": [
    {
     "data": {
      "text/plain": [
       "Low Fat    5089\n",
       "Regular    2889\n",
       "LF          316\n",
       "reg         117\n",
       "low fat     112\n",
       "Name: Item_Fat_Content, dtype: int64"
      ]
     },
     "execution_count": 29,
     "metadata": {},
     "output_type": "execute_result"
    }
   ],
   "source": [
    "#Fat_Content showing redudancy of differnt types\n",
    "data.Item_Fat_Content.value_counts()"
   ]
  },
  {
   "cell_type": "code",
   "execution_count": 30,
   "metadata": {},
   "outputs": [
    {
     "data": {
      "text/plain": [
       "Low Fat    5517\n",
       "Regular    3006\n",
       "Name: Item_Fat_Content, dtype: int64"
      ]
     },
     "execution_count": 30,
     "metadata": {},
     "output_type": "execute_result"
    }
   ],
   "source": [
    "#Now replace LF by Low Fat ,low fat by lf,reg by Regular\n",
    "data['Item_Fat_Content']=data['Item_Fat_Content'].replace({'low fat':'Low Fat','reg':'Regular','LF':'Low Fat'})\n",
    "data.Item_Fat_Content.value_counts()"
   ]
  },
  {
   "cell_type": "code",
   "execution_count": 31,
   "metadata": {},
   "outputs": [],
   "source": [
    "#no of years outlet is working conditon \n",
    "data['Outlet_Years']=2018-data['Outlet_Establishment_Year']\n"
   ]
  },
  {
   "cell_type": "code",
   "execution_count": 32,
   "metadata": {},
   "outputs": [],
   "source": [
    "Mean_Visibility=data['Item_Visibility'].mean()\n"
   ]
  },
  {
   "cell_type": "code",
   "execution_count": 33,
   "metadata": {},
   "outputs": [],
   "source": [
    "data['Item_Visibility_MeanRatio']=data.apply(lambda x:x['Item_Visibility']/Mean_Visibility,axis=1)\n"
   ]
  },
  {
   "cell_type": "code",
   "execution_count": 34,
   "metadata": {},
   "outputs": [],
   "source": [
    "#As Item Id and Outlet Id\n"
   ]
  },
  {
   "cell_type": "code",
   "execution_count": 35,
   "metadata": {},
   "outputs": [],
   "source": [
    "#Convert categorical into numerical \n",
    "var_mod=['Item_Fat_Content','Outlet_Location_Type','Outlet_Size','Outlet_Type','Item_Type']\n",
    "number=LabelEncoder()\n"
   ]
  },
  {
   "cell_type": "code",
   "execution_count": 36,
   "metadata": {},
   "outputs": [],
   "source": [
    "#Item_Identifier and outlet_Identifier are also useful for making prediction\n",
    "data['Outlet']=number.fit_transform(data['Outlet_Identifier'])\n",
    "data['Identifier']=number.fit_transform(data['Item_Identifier'])\n"
   ]
  },
  {
   "cell_type": "code",
   "execution_count": 37,
   "metadata": {},
   "outputs": [],
   "source": [
    "for i in var_mod:\n",
    "      data[i]=number.fit_transform(data[i])\n"
   ]
  },
  {
   "cell_type": "code",
   "execution_count": 38,
   "metadata": {},
   "outputs": [
    {
     "data": {
      "text/html": [
       "<div>\n",
       "<style scoped>\n",
       "    .dataframe tbody tr th:only-of-type {\n",
       "        vertical-align: middle;\n",
       "    }\n",
       "\n",
       "    .dataframe tbody tr th {\n",
       "        vertical-align: top;\n",
       "    }\n",
       "\n",
       "    .dataframe thead th {\n",
       "        text-align: right;\n",
       "    }\n",
       "</style>\n",
       "<table border=\"1\" class=\"dataframe\">\n",
       "  <thead>\n",
       "    <tr style=\"text-align: right;\">\n",
       "      <th></th>\n",
       "      <th>Item_Identifier</th>\n",
       "      <th>Item_Weight</th>\n",
       "      <th>Item_Fat_Content</th>\n",
       "      <th>Item_Visibility</th>\n",
       "      <th>Item_Type</th>\n",
       "      <th>Item_MRP</th>\n",
       "      <th>Outlet_Identifier</th>\n",
       "      <th>Outlet_Establishment_Year</th>\n",
       "      <th>Outlet_Size</th>\n",
       "      <th>Outlet_Location_Type</th>\n",
       "      <th>Outlet_Type</th>\n",
       "      <th>Item_Outlet_Sales</th>\n",
       "      <th>Outlet_Years</th>\n",
       "      <th>Item_Visibility_MeanRatio</th>\n",
       "      <th>Outlet</th>\n",
       "      <th>Identifier</th>\n",
       "    </tr>\n",
       "  </thead>\n",
       "  <tbody>\n",
       "    <tr>\n",
       "      <th>0</th>\n",
       "      <td>FDA15</td>\n",
       "      <td>9.30</td>\n",
       "      <td>0</td>\n",
       "      <td>0.016047</td>\n",
       "      <td>4</td>\n",
       "      <td>249.8092</td>\n",
       "      <td>OUT049</td>\n",
       "      <td>1999</td>\n",
       "      <td>1</td>\n",
       "      <td>0</td>\n",
       "      <td>1</td>\n",
       "      <td>3735.1380</td>\n",
       "      <td>19</td>\n",
       "      <td>0.242656</td>\n",
       "      <td>9</td>\n",
       "      <td>156</td>\n",
       "    </tr>\n",
       "    <tr>\n",
       "      <th>1</th>\n",
       "      <td>DRC01</td>\n",
       "      <td>5.92</td>\n",
       "      <td>1</td>\n",
       "      <td>0.019278</td>\n",
       "      <td>14</td>\n",
       "      <td>48.2692</td>\n",
       "      <td>OUT018</td>\n",
       "      <td>2009</td>\n",
       "      <td>1</td>\n",
       "      <td>2</td>\n",
       "      <td>2</td>\n",
       "      <td>443.4228</td>\n",
       "      <td>9</td>\n",
       "      <td>0.291511</td>\n",
       "      <td>3</td>\n",
       "      <td>8</td>\n",
       "    </tr>\n",
       "    <tr>\n",
       "      <th>2</th>\n",
       "      <td>FDN15</td>\n",
       "      <td>17.50</td>\n",
       "      <td>0</td>\n",
       "      <td>0.016760</td>\n",
       "      <td>10</td>\n",
       "      <td>141.6180</td>\n",
       "      <td>OUT049</td>\n",
       "      <td>1999</td>\n",
       "      <td>1</td>\n",
       "      <td>0</td>\n",
       "      <td>1</td>\n",
       "      <td>2097.2700</td>\n",
       "      <td>19</td>\n",
       "      <td>0.253434</td>\n",
       "      <td>9</td>\n",
       "      <td>662</td>\n",
       "    </tr>\n",
       "    <tr>\n",
       "      <th>3</th>\n",
       "      <td>FDX07</td>\n",
       "      <td>19.20</td>\n",
       "      <td>1</td>\n",
       "      <td>0.000000</td>\n",
       "      <td>6</td>\n",
       "      <td>182.0950</td>\n",
       "      <td>OUT010</td>\n",
       "      <td>1998</td>\n",
       "      <td>2</td>\n",
       "      <td>2</td>\n",
       "      <td>0</td>\n",
       "      <td>732.3800</td>\n",
       "      <td>20</td>\n",
       "      <td>0.000000</td>\n",
       "      <td>0</td>\n",
       "      <td>1121</td>\n",
       "    </tr>\n",
       "    <tr>\n",
       "      <th>4</th>\n",
       "      <td>NCD19</td>\n",
       "      <td>8.93</td>\n",
       "      <td>0</td>\n",
       "      <td>0.000000</td>\n",
       "      <td>9</td>\n",
       "      <td>53.8614</td>\n",
       "      <td>OUT013</td>\n",
       "      <td>1987</td>\n",
       "      <td>0</td>\n",
       "      <td>2</td>\n",
       "      <td>1</td>\n",
       "      <td>994.7052</td>\n",
       "      <td>31</td>\n",
       "      <td>0.000000</td>\n",
       "      <td>1</td>\n",
       "      <td>1297</td>\n",
       "    </tr>\n",
       "  </tbody>\n",
       "</table>\n",
       "</div>"
      ],
      "text/plain": [
       "  Item_Identifier  Item_Weight  Item_Fat_Content  Item_Visibility  Item_Type  \\\n",
       "0           FDA15         9.30                 0         0.016047          4   \n",
       "1           DRC01         5.92                 1         0.019278         14   \n",
       "2           FDN15        17.50                 0         0.016760         10   \n",
       "3           FDX07        19.20                 1         0.000000          6   \n",
       "4           NCD19         8.93                 0         0.000000          9   \n",
       "\n",
       "   Item_MRP Outlet_Identifier  Outlet_Establishment_Year  Outlet_Size  \\\n",
       "0  249.8092            OUT049                       1999            1   \n",
       "1   48.2692            OUT018                       2009            1   \n",
       "2  141.6180            OUT049                       1999            1   \n",
       "3  182.0950            OUT010                       1998            2   \n",
       "4   53.8614            OUT013                       1987            0   \n",
       "\n",
       "   Outlet_Location_Type  Outlet_Type  Item_Outlet_Sales  Outlet_Years  \\\n",
       "0                     0            1          3735.1380            19   \n",
       "1                     2            2           443.4228             9   \n",
       "2                     0            1          2097.2700            19   \n",
       "3                     2            0           732.3800            20   \n",
       "4                     2            1           994.7052            31   \n",
       "\n",
       "   Item_Visibility_MeanRatio  Outlet  Identifier  \n",
       "0                   0.242656       9         156  \n",
       "1                   0.291511       3           8  \n",
       "2                   0.253434       9         662  \n",
       "3                   0.000000       0        1121  \n",
       "4                   0.000000       1        1297  "
      ]
     },
     "execution_count": 38,
     "metadata": {},
     "output_type": "execute_result"
    }
   ],
   "source": [
    "data.head()"
   ]
  },
  {
   "cell_type": "code",
   "execution_count": 39,
   "metadata": {},
   "outputs": [],
   "source": [
    "predictors=['Item_Fat_Content','Item_Visibility','Item_Type','Item_MRP','Outlet_Size','Outlet_Location_Type','Outlet_Type','Outlet_Years','Item_Visibility_MeanRatio',\n",
    "            'Outlet','Identifier','Item_Weight']"
   ]
  },
  {
   "cell_type": "code",
   "execution_count": 40,
   "metadata": {},
   "outputs": [],
   "source": [
    "seed = 342\n",
    "np.random.seed(seed)"
   ]
  },
  {
   "cell_type": "code",
   "execution_count": 41,
   "metadata": {},
   "outputs": [],
   "source": [
    "from sklearn.model_selection import StratifiedKFold\n",
    "cv = StratifiedKFold(n_splits=5, random_state=None)"
   ]
  },
  {
   "cell_type": "code",
   "execution_count": 42,
   "metadata": {},
   "outputs": [],
   "source": [
    "from scipy.stats import randint, uniform\n"
   ]
  },
  {
   "cell_type": "code",
   "execution_count": 43,
   "metadata": {},
   "outputs": [],
   "source": [
    "params = {\n",
    "    'max_depth': [1,2,3,4,5,6,7,8,9,10,11,12,13,14,15],\n",
    "    'gamma': [0, 0.5, 1],\n",
    "    'n_estimators': [50,100,150,200],\n",
    "    'learning_rate': [0.5, 0.75, 1], \n",
    "}"
   ]
  },
  {
   "cell_type": "code",
   "execution_count": 44,
   "metadata": {},
   "outputs": [],
   "source": [
    "from xgboost.sklearn import XGBRegressor \n",
    "from sklearn.model_selection import GridSearchCV,RandomizedSearchCV\n"
   ]
  },
  {
   "cell_type": "code",
   "execution_count": null,
   "metadata": {},
   "outputs": [],
   "source": []
  },
  {
   "cell_type": "code",
   "execution_count": 45,
   "metadata": {},
   "outputs": [],
   "source": [
    "data.drop(['Outlet_Identifier','Item_Identifier'],axis=1,inplace=True)"
   ]
  },
  {
   "cell_type": "code",
   "execution_count": 46,
   "metadata": {},
   "outputs": [],
   "source": [
    "X=data[predictors]\n"
   ]
  },
  {
   "cell_type": "code",
   "execution_count": 47,
   "metadata": {},
   "outputs": [],
   "source": [
    "y=data['Item_Outlet_Sales']\n"
   ]
  },
  {
   "cell_type": "code",
   "execution_count": 48,
   "metadata": {},
   "outputs": [],
   "source": [
    "from sklearn.model_selection import StratifiedKFold\n"
   ]
  },
  {
   "cell_type": "code",
   "execution_count": 49,
   "metadata": {},
   "outputs": [],
   "source": [
    "xgf=XGBRegressor()"
   ]
  },
  {
   "cell_type": "code",
   "execution_count": 50,
   "metadata": {},
   "outputs": [],
   "source": [
    "gxgf=GridSearchCV(xgf, params)"
   ]
  },
  {
   "cell_type": "code",
   "execution_count": 51,
   "metadata": {},
   "outputs": [],
   "source": [
    "X_train, X_test, y_train, y_test = train_test_split(X, y, test_size = 0.25, random_state=43)\n"
   ]
  },
  {
   "cell_type": "code",
   "execution_count": 52,
   "metadata": {},
   "outputs": [],
   "source": [
    "X_train=np.array(X_train) \n"
   ]
  },
  {
   "cell_type": "code",
   "execution_count": 53,
   "metadata": {},
   "outputs": [],
   "source": [
    "y_train=np.array(y_train) \n"
   ]
  },
  {
   "cell_type": "code",
   "execution_count": 54,
   "metadata": {},
   "outputs": [],
   "source": [
    "X_train = X_train.astype(float) \n"
   ]
  },
  {
   "cell_type": "code",
   "execution_count": 55,
   "metadata": {},
   "outputs": [],
   "source": [
    "y_train = y_train.astype(float)\n"
   ]
  },
  {
   "cell_type": "code",
   "execution_count": 56,
   "metadata": {},
   "outputs": [
    {
     "data": {
      "text/plain": [
       "GridSearchCV(cv=None, error_score='raise',\n",
       "       estimator=XGBRegressor(base_score=0.5, booster='gbtree', colsample_bylevel=1,\n",
       "       colsample_bytree=1, gamma=0, learning_rate=0.1, max_delta_step=0,\n",
       "       max_depth=3, min_child_weight=1, missing=None, n_estimators=100,\n",
       "       n_jobs=1, nthread=None, objective='reg:linear', random_state=0,\n",
       "       reg_alpha=0, reg_lambda=1, scale_pos_weight=1, seed=None,\n",
       "       silent=True, subsample=1),\n",
       "       fit_params=None, iid=True, n_jobs=1,\n",
       "       param_grid={'max_depth': [1, 2, 3, 4, 5, 6, 7, 8, 9, 10, 11, 12, 13, 14, 15], 'gamma': [0, 0.5, 1], 'n_estimators': [50, 100, 150, 200], 'learning_rate': [0.5, 0.75, 1]},\n",
       "       pre_dispatch='2*n_jobs', refit=True, return_train_score='warn',\n",
       "       scoring=None, verbose=0)"
      ]
     },
     "execution_count": 56,
     "metadata": {},
     "output_type": "execute_result"
    }
   ],
   "source": [
    "gxgf"
   ]
  },
  {
   "cell_type": "code",
   "execution_count": 57,
   "metadata": {},
   "outputs": [
    {
     "data": {
      "text/plain": [
       "GridSearchCV(cv=None, error_score='raise',\n",
       "       estimator=XGBRegressor(base_score=0.5, booster='gbtree', colsample_bylevel=1,\n",
       "       colsample_bytree=1, gamma=0, learning_rate=0.1, max_delta_step=0,\n",
       "       max_depth=3, min_child_weight=1, missing=None, n_estimators=100,\n",
       "       n_jobs=1, nthread=None, objective='reg:linear', random_state=0,\n",
       "       reg_alpha=0, reg_lambda=1, scale_pos_weight=1, seed=None,\n",
       "       silent=True, subsample=1),\n",
       "       fit_params=None, iid=True, n_jobs=1,\n",
       "       param_grid={'max_depth': [1, 2, 3, 4, 5, 6, 7, 8, 9, 10, 11, 12, 13, 14, 15], 'gamma': [0, 0.5, 1], 'n_estimators': [50, 100, 150, 200], 'learning_rate': [0.5, 0.75, 1]},\n",
       "       pre_dispatch='2*n_jobs', refit=True, return_train_score='warn',\n",
       "       scoring=None, verbose=0)"
      ]
     },
     "execution_count": 57,
     "metadata": {},
     "output_type": "execute_result"
    }
   ],
   "source": [
    "gxgf.fit(X_train,y_train)"
   ]
  },
  {
   "cell_type": "code",
   "execution_count": 58,
   "metadata": {},
   "outputs": [
    {
     "name": "stderr",
     "output_type": "stream",
     "text": [
      "C:\\Users\\Gurudeo\\Anaconda2\\lib\\site-packages\\sklearn\\model_selection\\_search.py:761: DeprecationWarning: The grid_scores_ attribute was deprecated in version 0.18 in favor of the more elaborate cv_results_ attribute. The grid_scores_ attribute will not be available from 0.20\n",
      "  DeprecationWarning)\n"
     ]
    },
    {
     "data": {
      "text/plain": [
       "[mean: 0.54912, std: 0.00591, params: {'gamma': 0, 'learning_rate': 0.5, 'max_depth': 1, 'n_estimators': 50},\n",
       " mean: 0.54897, std: 0.00524, params: {'gamma': 0, 'learning_rate': 0.5, 'max_depth': 1, 'n_estimators': 100},\n",
       " mean: 0.54874, std: 0.00484, params: {'gamma': 0, 'learning_rate': 0.5, 'max_depth': 1, 'n_estimators': 150},\n",
       " mean: 0.54798, std: 0.00434, params: {'gamma': 0, 'learning_rate': 0.5, 'max_depth': 1, 'n_estimators': 200},\n",
       " mean: 0.57521, std: 0.00349, params: {'gamma': 0, 'learning_rate': 0.5, 'max_depth': 2, 'n_estimators': 50},\n",
       " mean: 0.55996, std: 0.00210, params: {'gamma': 0, 'learning_rate': 0.5, 'max_depth': 2, 'n_estimators': 100},\n",
       " mean: 0.54890, std: 0.00025, params: {'gamma': 0, 'learning_rate': 0.5, 'max_depth': 2, 'n_estimators': 150},\n",
       " mean: 0.53628, std: 0.00524, params: {'gamma': 0, 'learning_rate': 0.5, 'max_depth': 2, 'n_estimators': 200},\n",
       " mean: 0.55383, std: 0.00774, params: {'gamma': 0, 'learning_rate': 0.5, 'max_depth': 3, 'n_estimators': 50},\n",
       " mean: 0.52265, std: 0.00917, params: {'gamma': 0, 'learning_rate': 0.5, 'max_depth': 3, 'n_estimators': 100},\n",
       " mean: 0.50545, std: 0.01324, params: {'gamma': 0, 'learning_rate': 0.5, 'max_depth': 3, 'n_estimators': 150},\n",
       " mean: 0.48862, std: 0.00772, params: {'gamma': 0, 'learning_rate': 0.5, 'max_depth': 3, 'n_estimators': 200},\n",
       " mean: 0.53001, std: 0.01130, params: {'gamma': 0, 'learning_rate': 0.5, 'max_depth': 4, 'n_estimators': 50},\n",
       " mean: 0.49842, std: 0.01211, params: {'gamma': 0, 'learning_rate': 0.5, 'max_depth': 4, 'n_estimators': 100},\n",
       " mean: 0.47823, std: 0.01394, params: {'gamma': 0, 'learning_rate': 0.5, 'max_depth': 4, 'n_estimators': 150},\n",
       " mean: 0.46218, std: 0.01417, params: {'gamma': 0, 'learning_rate': 0.5, 'max_depth': 4, 'n_estimators': 200},\n",
       " mean: 0.51046, std: 0.01448, params: {'gamma': 0, 'learning_rate': 0.5, 'max_depth': 5, 'n_estimators': 50},\n",
       " mean: 0.47120, std: 0.01138, params: {'gamma': 0, 'learning_rate': 0.5, 'max_depth': 5, 'n_estimators': 100},\n",
       " mean: 0.45299, std: 0.01310, params: {'gamma': 0, 'learning_rate': 0.5, 'max_depth': 5, 'n_estimators': 150},\n",
       " mean: 0.44136, std: 0.01544, params: {'gamma': 0, 'learning_rate': 0.5, 'max_depth': 5, 'n_estimators': 200},\n",
       " mean: 0.46381, std: 0.00168, params: {'gamma': 0, 'learning_rate': 0.5, 'max_depth': 6, 'n_estimators': 50},\n",
       " mean: 0.43158, std: 0.00547, params: {'gamma': 0, 'learning_rate': 0.5, 'max_depth': 6, 'n_estimators': 100},\n",
       " mean: 0.41125, std: 0.00736, params: {'gamma': 0, 'learning_rate': 0.5, 'max_depth': 6, 'n_estimators': 150},\n",
       " mean: 0.40296, std: 0.00929, params: {'gamma': 0, 'learning_rate': 0.5, 'max_depth': 6, 'n_estimators': 200},\n",
       " mean: 0.46454, std: 0.00830, params: {'gamma': 0, 'learning_rate': 0.5, 'max_depth': 7, 'n_estimators': 50},\n",
       " mean: 0.43236, std: 0.00715, params: {'gamma': 0, 'learning_rate': 0.5, 'max_depth': 7, 'n_estimators': 100},\n",
       " mean: 0.42085, std: 0.00516, params: {'gamma': 0, 'learning_rate': 0.5, 'max_depth': 7, 'n_estimators': 150},\n",
       " mean: 0.41642, std: 0.00540, params: {'gamma': 0, 'learning_rate': 0.5, 'max_depth': 7, 'n_estimators': 200},\n",
       " mean: 0.43703, std: 0.00606, params: {'gamma': 0, 'learning_rate': 0.5, 'max_depth': 8, 'n_estimators': 50},\n",
       " mean: 0.41684, std: 0.00356, params: {'gamma': 0, 'learning_rate': 0.5, 'max_depth': 8, 'n_estimators': 100},\n",
       " mean: 0.41193, std: 0.00373, params: {'gamma': 0, 'learning_rate': 0.5, 'max_depth': 8, 'n_estimators': 150},\n",
       " mean: 0.41036, std: 0.00376, params: {'gamma': 0, 'learning_rate': 0.5, 'max_depth': 8, 'n_estimators': 200},\n",
       " mean: 0.42369, std: 0.01762, params: {'gamma': 0, 'learning_rate': 0.5, 'max_depth': 9, 'n_estimators': 50},\n",
       " mean: 0.41202, std: 0.01705, params: {'gamma': 0, 'learning_rate': 0.5, 'max_depth': 9, 'n_estimators': 100},\n",
       " mean: 0.40958, std: 0.01750, params: {'gamma': 0, 'learning_rate': 0.5, 'max_depth': 9, 'n_estimators': 150},\n",
       " mean: 0.40920, std: 0.01741, params: {'gamma': 0, 'learning_rate': 0.5, 'max_depth': 9, 'n_estimators': 200},\n",
       " mean: 0.43017, std: 0.00535, params: {'gamma': 0, 'learning_rate': 0.5, 'max_depth': 10, 'n_estimators': 50},\n",
       " mean: 0.42332, std: 0.00285, params: {'gamma': 0, 'learning_rate': 0.5, 'max_depth': 10, 'n_estimators': 100},\n",
       " mean: 0.42270, std: 0.00298, params: {'gamma': 0, 'learning_rate': 0.5, 'max_depth': 10, 'n_estimators': 150},\n",
       " mean: 0.42258, std: 0.00300, params: {'gamma': 0, 'learning_rate': 0.5, 'max_depth': 10, 'n_estimators': 200},\n",
       " mean: 0.41705, std: 0.00665, params: {'gamma': 0, 'learning_rate': 0.5, 'max_depth': 11, 'n_estimators': 50},\n",
       " mean: 0.41417, std: 0.00723, params: {'gamma': 0, 'learning_rate': 0.5, 'max_depth': 11, 'n_estimators': 100},\n",
       " mean: 0.41390, std: 0.00719, params: {'gamma': 0, 'learning_rate': 0.5, 'max_depth': 11, 'n_estimators': 150},\n",
       " mean: 0.41389, std: 0.00719, params: {'gamma': 0, 'learning_rate': 0.5, 'max_depth': 11, 'n_estimators': 200},\n",
       " mean: 0.41282, std: 0.00957, params: {'gamma': 0, 'learning_rate': 0.5, 'max_depth': 12, 'n_estimators': 50},\n",
       " mean: 0.41183, std: 0.00969, params: {'gamma': 0, 'learning_rate': 0.5, 'max_depth': 12, 'n_estimators': 100},\n",
       " mean: 0.41179, std: 0.00969, params: {'gamma': 0, 'learning_rate': 0.5, 'max_depth': 12, 'n_estimators': 150},\n",
       " mean: 0.41179, std: 0.00969, params: {'gamma': 0, 'learning_rate': 0.5, 'max_depth': 12, 'n_estimators': 200},\n",
       " mean: 0.41856, std: 0.00705, params: {'gamma': 0, 'learning_rate': 0.5, 'max_depth': 13, 'n_estimators': 50},\n",
       " mean: 0.41803, std: 0.00706, params: {'gamma': 0, 'learning_rate': 0.5, 'max_depth': 13, 'n_estimators': 100},\n",
       " mean: 0.41802, std: 0.00705, params: {'gamma': 0, 'learning_rate': 0.5, 'max_depth': 13, 'n_estimators': 150},\n",
       " mean: 0.41802, std: 0.00705, params: {'gamma': 0, 'learning_rate': 0.5, 'max_depth': 13, 'n_estimators': 200},\n",
       " mean: 0.42344, std: 0.00867, params: {'gamma': 0, 'learning_rate': 0.5, 'max_depth': 14, 'n_estimators': 50},\n",
       " mean: 0.42327, std: 0.00863, params: {'gamma': 0, 'learning_rate': 0.5, 'max_depth': 14, 'n_estimators': 100},\n",
       " mean: 0.42327, std: 0.00863, params: {'gamma': 0, 'learning_rate': 0.5, 'max_depth': 14, 'n_estimators': 150},\n",
       " mean: 0.42327, std: 0.00863, params: {'gamma': 0, 'learning_rate': 0.5, 'max_depth': 14, 'n_estimators': 200},\n",
       " mean: 0.40921, std: 0.00872, params: {'gamma': 0, 'learning_rate': 0.5, 'max_depth': 15, 'n_estimators': 50},\n",
       " mean: 0.40912, std: 0.00872, params: {'gamma': 0, 'learning_rate': 0.5, 'max_depth': 15, 'n_estimators': 100},\n",
       " mean: 0.40912, std: 0.00872, params: {'gamma': 0, 'learning_rate': 0.5, 'max_depth': 15, 'n_estimators': 150},\n",
       " mean: 0.40912, std: 0.00872, params: {'gamma': 0, 'learning_rate': 0.5, 'max_depth': 15, 'n_estimators': 200},\n",
       " mean: 0.55042, std: 0.00669, params: {'gamma': 0, 'learning_rate': 0.75, 'max_depth': 1, 'n_estimators': 50},\n",
       " mean: 0.55022, std: 0.00587, params: {'gamma': 0, 'learning_rate': 0.75, 'max_depth': 1, 'n_estimators': 100},\n",
       " mean: 0.54904, std: 0.00534, params: {'gamma': 0, 'learning_rate': 0.75, 'max_depth': 1, 'n_estimators': 150},\n",
       " mean: 0.54704, std: 0.00512, params: {'gamma': 0, 'learning_rate': 0.75, 'max_depth': 1, 'n_estimators': 200},\n",
       " mean: 0.55043, std: 0.00182, params: {'gamma': 0, 'learning_rate': 0.75, 'max_depth': 2, 'n_estimators': 50},\n",
       " mean: 0.53123, std: 0.00268, params: {'gamma': 0, 'learning_rate': 0.75, 'max_depth': 2, 'n_estimators': 100},\n",
       " mean: 0.51074, std: 0.00226, params: {'gamma': 0, 'learning_rate': 0.75, 'max_depth': 2, 'n_estimators': 150},\n",
       " mean: 0.50018, std: 0.00840, params: {'gamma': 0, 'learning_rate': 0.75, 'max_depth': 2, 'n_estimators': 200},\n",
       " mean: 0.51765, std: 0.01090, params: {'gamma': 0, 'learning_rate': 0.75, 'max_depth': 3, 'n_estimators': 50},\n",
       " mean: 0.47836, std: 0.00717, params: {'gamma': 0, 'learning_rate': 0.75, 'max_depth': 3, 'n_estimators': 100},\n",
       " mean: 0.46083, std: 0.00529, params: {'gamma': 0, 'learning_rate': 0.75, 'max_depth': 3, 'n_estimators': 150},\n",
       " mean: 0.44004, std: 0.00625, params: {'gamma': 0, 'learning_rate': 0.75, 'max_depth': 3, 'n_estimators': 200},\n",
       " mean: 0.46345, std: 0.01573, params: {'gamma': 0, 'learning_rate': 0.75, 'max_depth': 4, 'n_estimators': 50},\n",
       " mean: 0.42275, std: 0.01646, params: {'gamma': 0, 'learning_rate': 0.75, 'max_depth': 4, 'n_estimators': 100},\n",
       " mean: 0.39959, std: 0.01115, params: {'gamma': 0, 'learning_rate': 0.75, 'max_depth': 4, 'n_estimators': 150},\n",
       " mean: 0.38167, std: 0.01138, params: {'gamma': 0, 'learning_rate': 0.75, 'max_depth': 4, 'n_estimators': 200},\n",
       " mean: 0.43176, std: 0.01556, params: {'gamma': 0, 'learning_rate': 0.75, 'max_depth': 5, 'n_estimators': 50},\n",
       " mean: 0.38344, std: 0.01963, params: {'gamma': 0, 'learning_rate': 0.75, 'max_depth': 5, 'n_estimators': 100},\n",
       " mean: 0.35845, std: 0.02524, params: {'gamma': 0, 'learning_rate': 0.75, 'max_depth': 5, 'n_estimators': 150},\n",
       " mean: 0.34891, std: 0.02695, params: {'gamma': 0, 'learning_rate': 0.75, 'max_depth': 5, 'n_estimators': 200},\n",
       " mean: 0.41012, std: 0.01304, params: {'gamma': 0, 'learning_rate': 0.75, 'max_depth': 6, 'n_estimators': 50},\n",
       " mean: 0.36963, std: 0.01514, params: {'gamma': 0, 'learning_rate': 0.75, 'max_depth': 6, 'n_estimators': 100},\n",
       " mean: 0.35553, std: 0.01481, params: {'gamma': 0, 'learning_rate': 0.75, 'max_depth': 6, 'n_estimators': 150},\n",
       " mean: 0.34899, std: 0.01435, params: {'gamma': 0, 'learning_rate': 0.75, 'max_depth': 6, 'n_estimators': 200},\n",
       " mean: 0.37466, std: 0.01005, params: {'gamma': 0, 'learning_rate': 0.75, 'max_depth': 7, 'n_estimators': 50},\n",
       " mean: 0.35110, std: 0.01299, params: {'gamma': 0, 'learning_rate': 0.75, 'max_depth': 7, 'n_estimators': 100},\n",
       " mean: 0.34642, std: 0.01128, params: {'gamma': 0, 'learning_rate': 0.75, 'max_depth': 7, 'n_estimators': 150},\n",
       " mean: 0.34512, std: 0.01051, params: {'gamma': 0, 'learning_rate': 0.75, 'max_depth': 7, 'n_estimators': 200},\n",
       " mean: 0.37017, std: 0.03709, params: {'gamma': 0, 'learning_rate': 0.75, 'max_depth': 8, 'n_estimators': 50},\n",
       " mean: 0.35942, std: 0.03682, params: {'gamma': 0, 'learning_rate': 0.75, 'max_depth': 8, 'n_estimators': 100},\n",
       " mean: 0.35831, std: 0.03653, params: {'gamma': 0, 'learning_rate': 0.75, 'max_depth': 8, 'n_estimators': 150},\n",
       " mean: 0.35799, std: 0.03666, params: {'gamma': 0, 'learning_rate': 0.75, 'max_depth': 8, 'n_estimators': 200},\n",
       " mean: 0.36367, std: 0.00057, params: {'gamma': 0, 'learning_rate': 0.75, 'max_depth': 9, 'n_estimators': 50},\n",
       " mean: 0.35780, std: 0.00158, params: {'gamma': 0, 'learning_rate': 0.75, 'max_depth': 9, 'n_estimators': 100},\n",
       " mean: 0.35749, std: 0.00158, params: {'gamma': 0, 'learning_rate': 0.75, 'max_depth': 9, 'n_estimators': 150},\n",
       " mean: 0.35746, std: 0.00159, params: {'gamma': 0, 'learning_rate': 0.75, 'max_depth': 9, 'n_estimators': 200},\n",
       " mean: 0.37365, std: 0.00275, params: {'gamma': 0, 'learning_rate': 0.75, 'max_depth': 10, 'n_estimators': 50},\n",
       " mean: 0.37259, std: 0.00315, params: {'gamma': 0, 'learning_rate': 0.75, 'max_depth': 10, 'n_estimators': 100},\n",
       " mean: 0.37254, std: 0.00315, params: {'gamma': 0, 'learning_rate': 0.75, 'max_depth': 10, 'n_estimators': 150},\n",
       " mean: 0.37254, std: 0.00315, params: {'gamma': 0, 'learning_rate': 0.75, 'max_depth': 10, 'n_estimators': 200},\n",
       " mean: 0.35711, std: 0.00725, params: {'gamma': 0, 'learning_rate': 0.75, 'max_depth': 11, 'n_estimators': 50},\n",
       " mean: 0.35663, std: 0.00736, params: {'gamma': 0, 'learning_rate': 0.75, 'max_depth': 11, 'n_estimators': 100},\n",
       " mean: 0.35663, std: 0.00736, params: {'gamma': 0, 'learning_rate': 0.75, 'max_depth': 11, 'n_estimators': 150},\n",
       " mean: 0.35663, std: 0.00736, params: {'gamma': 0, 'learning_rate': 0.75, 'max_depth': 11, 'n_estimators': 200},\n",
       " mean: 0.36796, std: 0.01199, params: {'gamma': 0, 'learning_rate': 0.75, 'max_depth': 12, 'n_estimators': 50},\n",
       " mean: 0.36792, std: 0.01200, params: {'gamma': 0, 'learning_rate': 0.75, 'max_depth': 12, 'n_estimators': 100},\n",
       " mean: 0.36792, std: 0.01200, params: {'gamma': 0, 'learning_rate': 0.75, 'max_depth': 12, 'n_estimators': 150},\n",
       " mean: 0.36792, std: 0.01200, params: {'gamma': 0, 'learning_rate': 0.75, 'max_depth': 12, 'n_estimators': 200},\n",
       " mean: 0.36789, std: 0.01658, params: {'gamma': 0, 'learning_rate': 0.75, 'max_depth': 13, 'n_estimators': 50},\n",
       " mean: 0.36786, std: 0.01660, params: {'gamma': 0, 'learning_rate': 0.75, 'max_depth': 13, 'n_estimators': 100},\n",
       " mean: 0.36786, std: 0.01660, params: {'gamma': 0, 'learning_rate': 0.75, 'max_depth': 13, 'n_estimators': 150},\n",
       " mean: 0.36786, std: 0.01660, params: {'gamma': 0, 'learning_rate': 0.75, 'max_depth': 13, 'n_estimators': 200},\n",
       " mean: 0.35429, std: 0.01495, params: {'gamma': 0, 'learning_rate': 0.75, 'max_depth': 14, 'n_estimators': 50},\n",
       " mean: 0.35429, std: 0.01495, params: {'gamma': 0, 'learning_rate': 0.75, 'max_depth': 14, 'n_estimators': 100},\n",
       " mean: 0.35429, std: 0.01495, params: {'gamma': 0, 'learning_rate': 0.75, 'max_depth': 14, 'n_estimators': 150},\n",
       " mean: 0.35429, std: 0.01495, params: {'gamma': 0, 'learning_rate': 0.75, 'max_depth': 14, 'n_estimators': 200},\n",
       " mean: 0.35460, std: 0.00780, params: {'gamma': 0, 'learning_rate': 0.75, 'max_depth': 15, 'n_estimators': 50},\n",
       " mean: 0.35460, std: 0.00780, params: {'gamma': 0, 'learning_rate': 0.75, 'max_depth': 15, 'n_estimators': 100},\n",
       " mean: 0.35460, std: 0.00780, params: {'gamma': 0, 'learning_rate': 0.75, 'max_depth': 15, 'n_estimators': 150},\n",
       " mean: 0.35460, std: 0.00780, params: {'gamma': 0, 'learning_rate': 0.75, 'max_depth': 15, 'n_estimators': 200},\n",
       " mean: 0.54898, std: 0.00659, params: {'gamma': 0, 'learning_rate': 1, 'max_depth': 1, 'n_estimators': 50},\n",
       " mean: 0.54587, std: 0.00492, params: {'gamma': 0, 'learning_rate': 1, 'max_depth': 1, 'n_estimators': 100},\n",
       " mean: 0.54425, std: 0.00546, params: {'gamma': 0, 'learning_rate': 1, 'max_depth': 1, 'n_estimators': 150},\n",
       " mean: 0.54282, std: 0.00511, params: {'gamma': 0, 'learning_rate': 1, 'max_depth': 1, 'n_estimators': 200},\n",
       " mean: 0.54075, std: 0.00573, params: {'gamma': 0, 'learning_rate': 1, 'max_depth': 2, 'n_estimators': 50},\n",
       " mean: 0.51203, std: 0.00558, params: {'gamma': 0, 'learning_rate': 1, 'max_depth': 2, 'n_estimators': 100},\n",
       " mean: 0.49284, std: 0.00583, params: {'gamma': 0, 'learning_rate': 1, 'max_depth': 2, 'n_estimators': 150},\n",
       " mean: 0.47149, std: 0.01043, params: {'gamma': 0, 'learning_rate': 1, 'max_depth': 2, 'n_estimators': 200},\n",
       " mean: 0.48337, std: 0.00707, params: {'gamma': 0, 'learning_rate': 1, 'max_depth': 3, 'n_estimators': 50},\n",
       " mean: 0.43286, std: 0.00636, params: {'gamma': 0, 'learning_rate': 1, 'max_depth': 3, 'n_estimators': 100},\n",
       " mean: 0.39532, std: 0.01965, params: {'gamma': 0, 'learning_rate': 1, 'max_depth': 3, 'n_estimators': 150},\n",
       " mean: 0.37188, std: 0.02025, params: {'gamma': 0, 'learning_rate': 1, 'max_depth': 3, 'n_estimators': 200},\n",
       " mean: 0.40838, std: 0.01373, params: {'gamma': 0, 'learning_rate': 1, 'max_depth': 4, 'n_estimators': 50},\n",
       " mean: 0.35894, std: 0.02007, params: {'gamma': 0, 'learning_rate': 1, 'max_depth': 4, 'n_estimators': 100},\n",
       " mean: 0.31898, std: 0.01605, params: {'gamma': 0, 'learning_rate': 1, 'max_depth': 4, 'n_estimators': 150},\n",
       " mean: 0.29989, std: 0.01557, params: {'gamma': 0, 'learning_rate': 1, 'max_depth': 4, 'n_estimators': 200},\n",
       " mean: 0.37982, std: 0.01442, params: {'gamma': 0, 'learning_rate': 1, 'max_depth': 5, 'n_estimators': 50},\n",
       " mean: 0.32369, std: 0.01285, params: {'gamma': 0, 'learning_rate': 1, 'max_depth': 5, 'n_estimators': 100},\n",
       " mean: 0.29832, std: 0.01603, params: {'gamma': 0, 'learning_rate': 1, 'max_depth': 5, 'n_estimators': 150},\n",
       " mean: 0.28647, std: 0.01896, params: {'gamma': 0, 'learning_rate': 1, 'max_depth': 5, 'n_estimators': 200},\n",
       " mean: 0.30742, std: 0.00254, params: {'gamma': 0, 'learning_rate': 1, 'max_depth': 6, 'n_estimators': 50},\n",
       " mean: 0.27260, std: 0.00985, params: {'gamma': 0, 'learning_rate': 1, 'max_depth': 6, 'n_estimators': 100},\n",
       " mean: 0.26414, std: 0.00821, params: {'gamma': 0, 'learning_rate': 1, 'max_depth': 6, 'n_estimators': 150},\n",
       " mean: 0.26165, std: 0.00912, params: {'gamma': 0, 'learning_rate': 1, 'max_depth': 6, 'n_estimators': 200},\n",
       " mean: 0.31776, std: 0.00715, params: {'gamma': 0, 'learning_rate': 1, 'max_depth': 7, 'n_estimators': 50},\n",
       " mean: 0.29905, std: 0.00819, params: {'gamma': 0, 'learning_rate': 1, 'max_depth': 7, 'n_estimators': 100},\n",
       " mean: 0.29713, std: 0.00752, params: {'gamma': 0, 'learning_rate': 1, 'max_depth': 7, 'n_estimators': 150},\n",
       " mean: 0.29687, std: 0.00722, params: {'gamma': 0, 'learning_rate': 1, 'max_depth': 7, 'n_estimators': 200},\n",
       " mean: 0.27852, std: 0.01155, params: {'gamma': 0, 'learning_rate': 1, 'max_depth': 8, 'n_estimators': 50},\n",
       " mean: 0.27338, std: 0.01160, params: {'gamma': 0, 'learning_rate': 1, 'max_depth': 8, 'n_estimators': 100},\n",
       " mean: 0.27310, std: 0.01141, params: {'gamma': 0, 'learning_rate': 1, 'max_depth': 8, 'n_estimators': 150},\n",
       " mean: 0.27308, std: 0.01140, params: {'gamma': 0, 'learning_rate': 1, 'max_depth': 8, 'n_estimators': 200},\n",
       " mean: 0.26416, std: 0.01165, params: {'gamma': 0, 'learning_rate': 1, 'max_depth': 9, 'n_estimators': 50},\n",
       " mean: 0.26308, std: 0.01204, params: {'gamma': 0, 'learning_rate': 1, 'max_depth': 9, 'n_estimators': 100},\n",
       " mean: 0.26308, std: 0.01203, params: {'gamma': 0, 'learning_rate': 1, 'max_depth': 9, 'n_estimators': 150},\n",
       " mean: 0.26308, std: 0.01203, params: {'gamma': 0, 'learning_rate': 1, 'max_depth': 9, 'n_estimators': 200},\n",
       " mean: 0.27564, std: 0.02071, params: {'gamma': 0, 'learning_rate': 1, 'max_depth': 10, 'n_estimators': 50},\n",
       " mean: 0.27550, std: 0.02075, params: {'gamma': 0, 'learning_rate': 1, 'max_depth': 10, 'n_estimators': 100},\n",
       " mean: 0.27550, std: 0.02075, params: {'gamma': 0, 'learning_rate': 1, 'max_depth': 10, 'n_estimators': 150},\n",
       " mean: 0.27550, std: 0.02075, params: {'gamma': 0, 'learning_rate': 1, 'max_depth': 10, 'n_estimators': 200},\n",
       " mean: 0.30193, std: 0.00243, params: {'gamma': 0, 'learning_rate': 1, 'max_depth': 11, 'n_estimators': 50},\n",
       " mean: 0.30188, std: 0.00247, params: {'gamma': 0, 'learning_rate': 1, 'max_depth': 11, 'n_estimators': 100},\n",
       " mean: 0.30188, std: 0.00247, params: {'gamma': 0, 'learning_rate': 1, 'max_depth': 11, 'n_estimators': 150},\n",
       " mean: 0.30188, std: 0.00247, params: {'gamma': 0, 'learning_rate': 1, 'max_depth': 11, 'n_estimators': 200},\n",
       " mean: 0.26910, std: 0.00950, params: {'gamma': 0, 'learning_rate': 1, 'max_depth': 12, 'n_estimators': 50},\n",
       " mean: 0.26910, std: 0.00950, params: {'gamma': 0, 'learning_rate': 1, 'max_depth': 12, 'n_estimators': 100},\n",
       " mean: 0.26910, std: 0.00950, params: {'gamma': 0, 'learning_rate': 1, 'max_depth': 12, 'n_estimators': 150},\n",
       " mean: 0.26910, std: 0.00950, params: {'gamma': 0, 'learning_rate': 1, 'max_depth': 12, 'n_estimators': 200},\n",
       " mean: 0.27545, std: 0.01774, params: {'gamma': 0, 'learning_rate': 1, 'max_depth': 13, 'n_estimators': 50},\n",
       " mean: 0.27545, std: 0.01774, params: {'gamma': 0, 'learning_rate': 1, 'max_depth': 13, 'n_estimators': 100},\n",
       " mean: 0.27545, std: 0.01774, params: {'gamma': 0, 'learning_rate': 1, 'max_depth': 13, 'n_estimators': 150},\n",
       " mean: 0.27545, std: 0.01774, params: {'gamma': 0, 'learning_rate': 1, 'max_depth': 13, 'n_estimators': 200},\n",
       " mean: 0.29131, std: 0.01788, params: {'gamma': 0, 'learning_rate': 1, 'max_depth': 14, 'n_estimators': 50},\n",
       " mean: 0.29131, std: 0.01788, params: {'gamma': 0, 'learning_rate': 1, 'max_depth': 14, 'n_estimators': 100},\n",
       " mean: 0.29131, std: 0.01788, params: {'gamma': 0, 'learning_rate': 1, 'max_depth': 14, 'n_estimators': 150},\n",
       " mean: 0.29131, std: 0.01788, params: {'gamma': 0, 'learning_rate': 1, 'max_depth': 14, 'n_estimators': 200},\n",
       " mean: 0.26845, std: 0.00543, params: {'gamma': 0, 'learning_rate': 1, 'max_depth': 15, 'n_estimators': 50},\n",
       " mean: 0.26845, std: 0.00543, params: {'gamma': 0, 'learning_rate': 1, 'max_depth': 15, 'n_estimators': 100},\n",
       " mean: 0.26845, std: 0.00543, params: {'gamma': 0, 'learning_rate': 1, 'max_depth': 15, 'n_estimators': 150},\n",
       " mean: 0.26845, std: 0.00543, params: {'gamma': 0, 'learning_rate': 1, 'max_depth': 15, 'n_estimators': 200},\n",
       " mean: 0.54912, std: 0.00591, params: {'gamma': 0.5, 'learning_rate': 0.5, 'max_depth': 1, 'n_estimators': 50},\n",
       " mean: 0.54897, std: 0.00524, params: {'gamma': 0.5, 'learning_rate': 0.5, 'max_depth': 1, 'n_estimators': 100},\n",
       " mean: 0.54874, std: 0.00484, params: {'gamma': 0.5, 'learning_rate': 0.5, 'max_depth': 1, 'n_estimators': 150},\n",
       " mean: 0.54798, std: 0.00434, params: {'gamma': 0.5, 'learning_rate': 0.5, 'max_depth': 1, 'n_estimators': 200},\n",
       " mean: 0.57521, std: 0.00349, params: {'gamma': 0.5, 'learning_rate': 0.5, 'max_depth': 2, 'n_estimators': 50},\n",
       " mean: 0.55996, std: 0.00210, params: {'gamma': 0.5, 'learning_rate': 0.5, 'max_depth': 2, 'n_estimators': 100},\n",
       " mean: 0.54890, std: 0.00025, params: {'gamma': 0.5, 'learning_rate': 0.5, 'max_depth': 2, 'n_estimators': 150},\n",
       " mean: 0.53628, std: 0.00524, params: {'gamma': 0.5, 'learning_rate': 0.5, 'max_depth': 2, 'n_estimators': 200},\n",
       " mean: 0.55383, std: 0.00774, params: {'gamma': 0.5, 'learning_rate': 0.5, 'max_depth': 3, 'n_estimators': 50},\n",
       " mean: 0.52265, std: 0.00917, params: {'gamma': 0.5, 'learning_rate': 0.5, 'max_depth': 3, 'n_estimators': 100},\n",
       " mean: 0.50545, std: 0.01324, params: {'gamma': 0.5, 'learning_rate': 0.5, 'max_depth': 3, 'n_estimators': 150},\n",
       " mean: 0.48862, std: 0.00772, params: {'gamma': 0.5, 'learning_rate': 0.5, 'max_depth': 3, 'n_estimators': 200},\n",
       " mean: 0.53001, std: 0.01130, params: {'gamma': 0.5, 'learning_rate': 0.5, 'max_depth': 4, 'n_estimators': 50},\n",
       " mean: 0.49842, std: 0.01211, params: {'gamma': 0.5, 'learning_rate': 0.5, 'max_depth': 4, 'n_estimators': 100},\n",
       " mean: 0.47823, std: 0.01394, params: {'gamma': 0.5, 'learning_rate': 0.5, 'max_depth': 4, 'n_estimators': 150},\n",
       " mean: 0.46218, std: 0.01417, params: {'gamma': 0.5, 'learning_rate': 0.5, 'max_depth': 4, 'n_estimators': 200},\n",
       " mean: 0.51046, std: 0.01448, params: {'gamma': 0.5, 'learning_rate': 0.5, 'max_depth': 5, 'n_estimators': 50},\n",
       " mean: 0.47120, std: 0.01138, params: {'gamma': 0.5, 'learning_rate': 0.5, 'max_depth': 5, 'n_estimators': 100},\n",
       " mean: 0.45299, std: 0.01310, params: {'gamma': 0.5, 'learning_rate': 0.5, 'max_depth': 5, 'n_estimators': 150},\n",
       " mean: 0.44136, std: 0.01544, params: {'gamma': 0.5, 'learning_rate': 0.5, 'max_depth': 5, 'n_estimators': 200},\n",
       " mean: 0.46381, std: 0.00168, params: {'gamma': 0.5, 'learning_rate': 0.5, 'max_depth': 6, 'n_estimators': 50},\n",
       " mean: 0.43158, std: 0.00547, params: {'gamma': 0.5, 'learning_rate': 0.5, 'max_depth': 6, 'n_estimators': 100},\n",
       " mean: 0.41125, std: 0.00736, params: {'gamma': 0.5, 'learning_rate': 0.5, 'max_depth': 6, 'n_estimators': 150},\n",
       " mean: 0.40296, std: 0.00929, params: {'gamma': 0.5, 'learning_rate': 0.5, 'max_depth': 6, 'n_estimators': 200},\n",
       " mean: 0.46454, std: 0.00830, params: {'gamma': 0.5, 'learning_rate': 0.5, 'max_depth': 7, 'n_estimators': 50},\n",
       " mean: 0.43236, std: 0.00715, params: {'gamma': 0.5, 'learning_rate': 0.5, 'max_depth': 7, 'n_estimators': 100},\n",
       " mean: 0.42085, std: 0.00516, params: {'gamma': 0.5, 'learning_rate': 0.5, 'max_depth': 7, 'n_estimators': 150},\n",
       " mean: 0.41642, std: 0.00540, params: {'gamma': 0.5, 'learning_rate': 0.5, 'max_depth': 7, 'n_estimators': 200},\n",
       " mean: 0.43703, std: 0.00606, params: {'gamma': 0.5, 'learning_rate': 0.5, 'max_depth': 8, 'n_estimators': 50},\n",
       " mean: 0.41605, std: 0.00419, params: {'gamma': 0.5, 'learning_rate': 0.5, 'max_depth': 8, 'n_estimators': 100},\n",
       " mean: 0.41133, std: 0.00420, params: {'gamma': 0.5, 'learning_rate': 0.5, 'max_depth': 8, 'n_estimators': 150},\n",
       " mean: 0.40971, std: 0.00374, params: {'gamma': 0.5, 'learning_rate': 0.5, 'max_depth': 8, 'n_estimators': 200},\n",
       " mean: 0.42369, std: 0.01762, params: {'gamma': 0.5, 'learning_rate': 0.5, 'max_depth': 9, 'n_estimators': 50},\n",
       " mean: 0.41257, std: 0.01749, params: {'gamma': 0.5, 'learning_rate': 0.5, 'max_depth': 9, 'n_estimators': 100},\n",
       " mean: 0.41029, std: 0.01719, params: {'gamma': 0.5, 'learning_rate': 0.5, 'max_depth': 9, 'n_estimators': 150},\n",
       " mean: 0.40974, std: 0.01719, params: {'gamma': 0.5, 'learning_rate': 0.5, 'max_depth': 9, 'n_estimators': 200},\n",
       " mean: 0.42925, std: 0.00448, params: {'gamma': 0.5, 'learning_rate': 0.5, 'max_depth': 10, 'n_estimators': 50},\n",
       " mean: 0.42245, std: 0.00165, params: {'gamma': 0.5, 'learning_rate': 0.5, 'max_depth': 10, 'n_estimators': 100},\n",
       " mean: 0.42159, std: 0.00137, params: {'gamma': 0.5, 'learning_rate': 0.5, 'max_depth': 10, 'n_estimators': 150},\n",
       " mean: 0.42148, std: 0.00136, params: {'gamma': 0.5, 'learning_rate': 0.5, 'max_depth': 10, 'n_estimators': 200},\n",
       " mean: 0.41725, std: 0.00644, params: {'gamma': 0.5, 'learning_rate': 0.5, 'max_depth': 11, 'n_estimators': 50},\n",
       " mean: 0.41383, std: 0.00655, params: {'gamma': 0.5, 'learning_rate': 0.5, 'max_depth': 11, 'n_estimators': 100},\n",
       " mean: 0.41369, std: 0.00652, params: {'gamma': 0.5, 'learning_rate': 0.5, 'max_depth': 11, 'n_estimators': 150},\n",
       " mean: 0.41367, std: 0.00652, params: {'gamma': 0.5, 'learning_rate': 0.5, 'max_depth': 11, 'n_estimators': 200},\n",
       " mean: 0.41330, std: 0.01005, params: {'gamma': 0.5, 'learning_rate': 0.5, 'max_depth': 12, 'n_estimators': 50},\n",
       " mean: 0.41221, std: 0.01003, params: {'gamma': 0.5, 'learning_rate': 0.5, 'max_depth': 12, 'n_estimators': 100},\n",
       " mean: 0.41217, std: 0.01005, params: {'gamma': 0.5, 'learning_rate': 0.5, 'max_depth': 12, 'n_estimators': 150},\n",
       " mean: 0.41217, std: 0.01005, params: {'gamma': 0.5, 'learning_rate': 0.5, 'max_depth': 12, 'n_estimators': 200},\n",
       " mean: 0.41770, std: 0.00700, params: {'gamma': 0.5, 'learning_rate': 0.5, 'max_depth': 13, 'n_estimators': 50},\n",
       " mean: 0.41725, std: 0.00698, params: {'gamma': 0.5, 'learning_rate': 0.5, 'max_depth': 13, 'n_estimators': 100},\n",
       " mean: 0.41724, std: 0.00698, params: {'gamma': 0.5, 'learning_rate': 0.5, 'max_depth': 13, 'n_estimators': 150},\n",
       " mean: 0.41724, std: 0.00698, params: {'gamma': 0.5, 'learning_rate': 0.5, 'max_depth': 13, 'n_estimators': 200},\n",
       " mean: 0.42003, std: 0.01035, params: {'gamma': 0.5, 'learning_rate': 0.5, 'max_depth': 14, 'n_estimators': 50},\n",
       " mean: 0.41995, std: 0.01037, params: {'gamma': 0.5, 'learning_rate': 0.5, 'max_depth': 14, 'n_estimators': 100},\n",
       " mean: 0.41995, std: 0.01037, params: {'gamma': 0.5, 'learning_rate': 0.5, 'max_depth': 14, 'n_estimators': 150},\n",
       " mean: 0.41995, std: 0.01037, params: {'gamma': 0.5, 'learning_rate': 0.5, 'max_depth': 14, 'n_estimators': 200},\n",
       " mean: 0.41022, std: 0.00880, params: {'gamma': 0.5, 'learning_rate': 0.5, 'max_depth': 15, 'n_estimators': 50},\n",
       " mean: 0.41013, std: 0.00880, params: {'gamma': 0.5, 'learning_rate': 0.5, 'max_depth': 15, 'n_estimators': 100},\n",
       " mean: 0.41013, std: 0.00880, params: {'gamma': 0.5, 'learning_rate': 0.5, 'max_depth': 15, 'n_estimators': 150},\n",
       " mean: 0.41013, std: 0.00880, params: {'gamma': 0.5, 'learning_rate': 0.5, 'max_depth': 15, 'n_estimators': 200},\n",
       " mean: 0.55042, std: 0.00669, params: {'gamma': 0.5, 'learning_rate': 0.75, 'max_depth': 1, 'n_estimators': 50},\n",
       " mean: 0.55022, std: 0.00587, params: {'gamma': 0.5, 'learning_rate': 0.75, 'max_depth': 1, 'n_estimators': 100},\n",
       " mean: 0.54904, std: 0.00534, params: {'gamma': 0.5, 'learning_rate': 0.75, 'max_depth': 1, 'n_estimators': 150},\n",
       " mean: 0.54704, std: 0.00512, params: {'gamma': 0.5, 'learning_rate': 0.75, 'max_depth': 1, 'n_estimators': 200},\n",
       " mean: 0.55043, std: 0.00182, params: {'gamma': 0.5, 'learning_rate': 0.75, 'max_depth': 2, 'n_estimators': 50},\n",
       " mean: 0.53123, std: 0.00268, params: {'gamma': 0.5, 'learning_rate': 0.75, 'max_depth': 2, 'n_estimators': 100},\n",
       " mean: 0.51074, std: 0.00226, params: {'gamma': 0.5, 'learning_rate': 0.75, 'max_depth': 2, 'n_estimators': 150},\n",
       " mean: 0.50018, std: 0.00840, params: {'gamma': 0.5, 'learning_rate': 0.75, 'max_depth': 2, 'n_estimators': 200},\n",
       " mean: 0.51765, std: 0.01090, params: {'gamma': 0.5, 'learning_rate': 0.75, 'max_depth': 3, 'n_estimators': 50},\n",
       " mean: 0.47836, std: 0.00717, params: {'gamma': 0.5, 'learning_rate': 0.75, 'max_depth': 3, 'n_estimators': 100},\n",
       " mean: 0.46083, std: 0.00529, params: {'gamma': 0.5, 'learning_rate': 0.75, 'max_depth': 3, 'n_estimators': 150},\n",
       " mean: 0.44004, std: 0.00625, params: {'gamma': 0.5, 'learning_rate': 0.75, 'max_depth': 3, 'n_estimators': 200},\n",
       " mean: 0.46345, std: 0.01573, params: {'gamma': 0.5, 'learning_rate': 0.75, 'max_depth': 4, 'n_estimators': 50},\n",
       " mean: 0.42275, std: 0.01646, params: {'gamma': 0.5, 'learning_rate': 0.75, 'max_depth': 4, 'n_estimators': 100},\n",
       " mean: 0.39959, std: 0.01115, params: {'gamma': 0.5, 'learning_rate': 0.75, 'max_depth': 4, 'n_estimators': 150},\n",
       " mean: 0.38167, std: 0.01138, params: {'gamma': 0.5, 'learning_rate': 0.75, 'max_depth': 4, 'n_estimators': 200},\n",
       " mean: 0.43176, std: 0.01556, params: {'gamma': 0.5, 'learning_rate': 0.75, 'max_depth': 5, 'n_estimators': 50},\n",
       " mean: 0.38344, std: 0.01963, params: {'gamma': 0.5, 'learning_rate': 0.75, 'max_depth': 5, 'n_estimators': 100},\n",
       " mean: 0.35845, std: 0.02524, params: {'gamma': 0.5, 'learning_rate': 0.75, 'max_depth': 5, 'n_estimators': 150},\n",
       " mean: 0.34891, std: 0.02695, params: {'gamma': 0.5, 'learning_rate': 0.75, 'max_depth': 5, 'n_estimators': 200},\n",
       " mean: 0.41012, std: 0.01304, params: {'gamma': 0.5, 'learning_rate': 0.75, 'max_depth': 6, 'n_estimators': 50},\n",
       " mean: 0.36963, std: 0.01514, params: {'gamma': 0.5, 'learning_rate': 0.75, 'max_depth': 6, 'n_estimators': 100},\n",
       " mean: 0.35553, std: 0.01481, params: {'gamma': 0.5, 'learning_rate': 0.75, 'max_depth': 6, 'n_estimators': 150},\n",
       " mean: 0.34899, std: 0.01435, params: {'gamma': 0.5, 'learning_rate': 0.75, 'max_depth': 6, 'n_estimators': 200},\n",
       " mean: 0.37466, std: 0.01005, params: {'gamma': 0.5, 'learning_rate': 0.75, 'max_depth': 7, 'n_estimators': 50},\n",
       " mean: 0.35110, std: 0.01299, params: {'gamma': 0.5, 'learning_rate': 0.75, 'max_depth': 7, 'n_estimators': 100},\n",
       " mean: 0.34642, std: 0.01128, params: {'gamma': 0.5, 'learning_rate': 0.75, 'max_depth': 7, 'n_estimators': 150},\n",
       " mean: 0.34500, std: 0.01039, params: {'gamma': 0.5, 'learning_rate': 0.75, 'max_depth': 7, 'n_estimators': 200},\n",
       " mean: 0.37017, std: 0.03709, params: {'gamma': 0.5, 'learning_rate': 0.75, 'max_depth': 8, 'n_estimators': 50},\n",
       " mean: 0.35904, std: 0.03709, params: {'gamma': 0.5, 'learning_rate': 0.75, 'max_depth': 8, 'n_estimators': 100},\n",
       " mean: 0.35798, std: 0.03703, params: {'gamma': 0.5, 'learning_rate': 0.75, 'max_depth': 8, 'n_estimators': 150},\n",
       " mean: 0.35759, std: 0.03712, params: {'gamma': 0.5, 'learning_rate': 0.75, 'max_depth': 8, 'n_estimators': 200},\n",
       " mean: 0.36400, std: 0.00092, params: {'gamma': 0.5, 'learning_rate': 0.75, 'max_depth': 9, 'n_estimators': 50},\n",
       " mean: 0.35902, std: 0.00258, params: {'gamma': 0.5, 'learning_rate': 0.75, 'max_depth': 9, 'n_estimators': 100},\n",
       " mean: 0.35886, std: 0.00252, params: {'gamma': 0.5, 'learning_rate': 0.75, 'max_depth': 9, 'n_estimators': 150},\n",
       " mean: 0.35885, std: 0.00251, params: {'gamma': 0.5, 'learning_rate': 0.75, 'max_depth': 9, 'n_estimators': 200},\n",
       " mean: 0.37400, std: 0.00227, params: {'gamma': 0.5, 'learning_rate': 0.75, 'max_depth': 10, 'n_estimators': 50},\n",
       " mean: 0.37245, std: 0.00238, params: {'gamma': 0.5, 'learning_rate': 0.75, 'max_depth': 10, 'n_estimators': 100},\n",
       " mean: 0.37240, std: 0.00240, params: {'gamma': 0.5, 'learning_rate': 0.75, 'max_depth': 10, 'n_estimators': 150},\n",
       " mean: 0.37240, std: 0.00240, params: {'gamma': 0.5, 'learning_rate': 0.75, 'max_depth': 10, 'n_estimators': 200},\n",
       " mean: 0.35708, std: 0.00696, params: {'gamma': 0.5, 'learning_rate': 0.75, 'max_depth': 11, 'n_estimators': 50},\n",
       " mean: 0.35680, std: 0.00700, params: {'gamma': 0.5, 'learning_rate': 0.75, 'max_depth': 11, 'n_estimators': 100},\n",
       " mean: 0.35680, std: 0.00700, params: {'gamma': 0.5, 'learning_rate': 0.75, 'max_depth': 11, 'n_estimators': 150},\n",
       " mean: 0.35680, std: 0.00700, params: {'gamma': 0.5, 'learning_rate': 0.75, 'max_depth': 11, 'n_estimators': 200},\n",
       " mean: 0.36841, std: 0.01215, params: {'gamma': 0.5, 'learning_rate': 0.75, 'max_depth': 12, 'n_estimators': 50},\n",
       " mean: 0.36831, std: 0.01214, params: {'gamma': 0.5, 'learning_rate': 0.75, 'max_depth': 12, 'n_estimators': 100},\n",
       " mean: 0.36831, std: 0.01214, params: {'gamma': 0.5, 'learning_rate': 0.75, 'max_depth': 12, 'n_estimators': 150},\n",
       " mean: 0.36831, std: 0.01214, params: {'gamma': 0.5, 'learning_rate': 0.75, 'max_depth': 12, 'n_estimators': 200},\n",
       " mean: 0.36784, std: 0.01653, params: {'gamma': 0.5, 'learning_rate': 0.75, 'max_depth': 13, 'n_estimators': 50},\n",
       " mean: 0.36781, std: 0.01655, params: {'gamma': 0.5, 'learning_rate': 0.75, 'max_depth': 13, 'n_estimators': 100},\n",
       " mean: 0.36781, std: 0.01655, params: {'gamma': 0.5, 'learning_rate': 0.75, 'max_depth': 13, 'n_estimators': 150},\n",
       " mean: 0.36781, std: 0.01655, params: {'gamma': 0.5, 'learning_rate': 0.75, 'max_depth': 13, 'n_estimators': 200},\n",
       " mean: 0.35487, std: 0.01611, params: {'gamma': 0.5, 'learning_rate': 0.75, 'max_depth': 14, 'n_estimators': 50},\n",
       " mean: 0.35486, std: 0.01611, params: {'gamma': 0.5, 'learning_rate': 0.75, 'max_depth': 14, 'n_estimators': 100},\n",
       " mean: 0.35486, std: 0.01611, params: {'gamma': 0.5, 'learning_rate': 0.75, 'max_depth': 14, 'n_estimators': 150},\n",
       " mean: 0.35486, std: 0.01611, params: {'gamma': 0.5, 'learning_rate': 0.75, 'max_depth': 14, 'n_estimators': 200},\n",
       " mean: 0.35441, std: 0.00858, params: {'gamma': 0.5, 'learning_rate': 0.75, 'max_depth': 15, 'n_estimators': 50},\n",
       " mean: 0.35441, std: 0.00858, params: {'gamma': 0.5, 'learning_rate': 0.75, 'max_depth': 15, 'n_estimators': 100},\n",
       " mean: 0.35441, std: 0.00858, params: {'gamma': 0.5, 'learning_rate': 0.75, 'max_depth': 15, 'n_estimators': 150},\n",
       " mean: 0.35441, std: 0.00858, params: {'gamma': 0.5, 'learning_rate': 0.75, 'max_depth': 15, 'n_estimators': 200},\n",
       " mean: 0.54898, std: 0.00659, params: {'gamma': 0.5, 'learning_rate': 1, 'max_depth': 1, 'n_estimators': 50},\n",
       " mean: 0.54587, std: 0.00492, params: {'gamma': 0.5, 'learning_rate': 1, 'max_depth': 1, 'n_estimators': 100},\n",
       " mean: 0.54425, std: 0.00546, params: {'gamma': 0.5, 'learning_rate': 1, 'max_depth': 1, 'n_estimators': 150},\n",
       " mean: 0.54282, std: 0.00511, params: {'gamma': 0.5, 'learning_rate': 1, 'max_depth': 1, 'n_estimators': 200},\n",
       " mean: 0.54075, std: 0.00573, params: {'gamma': 0.5, 'learning_rate': 1, 'max_depth': 2, 'n_estimators': 50},\n",
       " mean: 0.51203, std: 0.00558, params: {'gamma': 0.5, 'learning_rate': 1, 'max_depth': 2, 'n_estimators': 100},\n",
       " mean: 0.49284, std: 0.00583, params: {'gamma': 0.5, 'learning_rate': 1, 'max_depth': 2, 'n_estimators': 150},\n",
       " mean: 0.47149, std: 0.01043, params: {'gamma': 0.5, 'learning_rate': 1, 'max_depth': 2, 'n_estimators': 200},\n",
       " mean: 0.48337, std: 0.00707, params: {'gamma': 0.5, 'learning_rate': 1, 'max_depth': 3, 'n_estimators': 50},\n",
       " mean: 0.43286, std: 0.00636, params: {'gamma': 0.5, 'learning_rate': 1, 'max_depth': 3, 'n_estimators': 100},\n",
       " mean: 0.39532, std: 0.01965, params: {'gamma': 0.5, 'learning_rate': 1, 'max_depth': 3, 'n_estimators': 150},\n",
       " mean: 0.37188, std: 0.02025, params: {'gamma': 0.5, 'learning_rate': 1, 'max_depth': 3, 'n_estimators': 200},\n",
       " mean: 0.40838, std: 0.01373, params: {'gamma': 0.5, 'learning_rate': 1, 'max_depth': 4, 'n_estimators': 50},\n",
       " mean: 0.35894, std: 0.02007, params: {'gamma': 0.5, 'learning_rate': 1, 'max_depth': 4, 'n_estimators': 100},\n",
       " mean: 0.31898, std: 0.01605, params: {'gamma': 0.5, 'learning_rate': 1, 'max_depth': 4, 'n_estimators': 150},\n",
       " mean: 0.29989, std: 0.01557, params: {'gamma': 0.5, 'learning_rate': 1, 'max_depth': 4, 'n_estimators': 200},\n",
       " mean: 0.37982, std: 0.01442, params: {'gamma': 0.5, 'learning_rate': 1, 'max_depth': 5, 'n_estimators': 50},\n",
       " mean: 0.32369, std: 0.01285, params: {'gamma': 0.5, 'learning_rate': 1, 'max_depth': 5, 'n_estimators': 100},\n",
       " mean: 0.29832, std: 0.01603, params: {'gamma': 0.5, 'learning_rate': 1, 'max_depth': 5, 'n_estimators': 150},\n",
       " mean: 0.28647, std: 0.01896, params: {'gamma': 0.5, 'learning_rate': 1, 'max_depth': 5, 'n_estimators': 200},\n",
       " mean: 0.30742, std: 0.00254, params: {'gamma': 0.5, 'learning_rate': 1, 'max_depth': 6, 'n_estimators': 50},\n",
       " mean: 0.27260, std: 0.00985, params: {'gamma': 0.5, 'learning_rate': 1, 'max_depth': 6, 'n_estimators': 100},\n",
       " mean: 0.26414, std: 0.00821, params: {'gamma': 0.5, 'learning_rate': 1, 'max_depth': 6, 'n_estimators': 150},\n",
       " mean: 0.26139, std: 0.00862, params: {'gamma': 0.5, 'learning_rate': 1, 'max_depth': 6, 'n_estimators': 200},\n",
       " mean: 0.31776, std: 0.00715, params: {'gamma': 0.5, 'learning_rate': 1, 'max_depth': 7, 'n_estimators': 50},\n",
       " mean: 0.29905, std: 0.00819, params: {'gamma': 0.5, 'learning_rate': 1, 'max_depth': 7, 'n_estimators': 100},\n",
       " mean: 0.29718, std: 0.00758, params: {'gamma': 0.5, 'learning_rate': 1, 'max_depth': 7, 'n_estimators': 150},\n",
       " mean: 0.29668, std: 0.00770, params: {'gamma': 0.5, 'learning_rate': 1, 'max_depth': 7, 'n_estimators': 200},\n",
       " mean: 0.27852, std: 0.01155, params: {'gamma': 0.5, 'learning_rate': 1, 'max_depth': 8, 'n_estimators': 50},\n",
       " mean: 0.27308, std: 0.01123, params: {'gamma': 0.5, 'learning_rate': 1, 'max_depth': 8, 'n_estimators': 100},\n",
       " mean: 0.27275, std: 0.01115, params: {'gamma': 0.5, 'learning_rate': 1, 'max_depth': 8, 'n_estimators': 150},\n",
       " mean: 0.27276, std: 0.01113, params: {'gamma': 0.5, 'learning_rate': 1, 'max_depth': 8, 'n_estimators': 200},\n",
       " mean: 0.26437, std: 0.01136, params: {'gamma': 0.5, 'learning_rate': 1, 'max_depth': 9, 'n_estimators': 50},\n",
       " mean: 0.26390, std: 0.01154, params: {'gamma': 0.5, 'learning_rate': 1, 'max_depth': 9, 'n_estimators': 100},\n",
       " mean: 0.26388, std: 0.01156, params: {'gamma': 0.5, 'learning_rate': 1, 'max_depth': 9, 'n_estimators': 150},\n",
       " mean: 0.26388, std: 0.01156, params: {'gamma': 0.5, 'learning_rate': 1, 'max_depth': 9, 'n_estimators': 200},\n",
       " mean: 0.27517, std: 0.02112, params: {'gamma': 0.5, 'learning_rate': 1, 'max_depth': 10, 'n_estimators': 50},\n",
       " mean: 0.27511, std: 0.02120, params: {'gamma': 0.5, 'learning_rate': 1, 'max_depth': 10, 'n_estimators': 100},\n",
       " mean: 0.27510, std: 0.02120, params: {'gamma': 0.5, 'learning_rate': 1, 'max_depth': 10, 'n_estimators': 150},\n",
       " mean: 0.27510, std: 0.02120, params: {'gamma': 0.5, 'learning_rate': 1, 'max_depth': 10, 'n_estimators': 200},\n",
       " mean: 0.30208, std: 0.00247, params: {'gamma': 0.5, 'learning_rate': 1, 'max_depth': 11, 'n_estimators': 50},\n",
       " mean: 0.30206, std: 0.00252, params: {'gamma': 0.5, 'learning_rate': 1, 'max_depth': 11, 'n_estimators': 100},\n",
       " mean: 0.30206, std: 0.00252, params: {'gamma': 0.5, 'learning_rate': 1, 'max_depth': 11, 'n_estimators': 150},\n",
       " mean: 0.30206, std: 0.00252, params: {'gamma': 0.5, 'learning_rate': 1, 'max_depth': 11, 'n_estimators': 200},\n",
       " mean: 0.26947, std: 0.00944, params: {'gamma': 0.5, 'learning_rate': 1, 'max_depth': 12, 'n_estimators': 50},\n",
       " mean: 0.26947, std: 0.00944, params: {'gamma': 0.5, 'learning_rate': 1, 'max_depth': 12, 'n_estimators': 100},\n",
       " mean: 0.26947, std: 0.00944, params: {'gamma': 0.5, 'learning_rate': 1, 'max_depth': 12, 'n_estimators': 150},\n",
       " mean: 0.26947, std: 0.00944, params: {'gamma': 0.5, 'learning_rate': 1, 'max_depth': 12, 'n_estimators': 200},\n",
       " mean: 0.27509, std: 0.01754, params: {'gamma': 0.5, 'learning_rate': 1, 'max_depth': 13, 'n_estimators': 50},\n",
       " mean: 0.27510, std: 0.01754, params: {'gamma': 0.5, 'learning_rate': 1, 'max_depth': 13, 'n_estimators': 100},\n",
       " mean: 0.27510, std: 0.01754, params: {'gamma': 0.5, 'learning_rate': 1, 'max_depth': 13, 'n_estimators': 150},\n",
       " mean: 0.27510, std: 0.01754, params: {'gamma': 0.5, 'learning_rate': 1, 'max_depth': 13, 'n_estimators': 200},\n",
       " mean: 0.29160, std: 0.01743, params: {'gamma': 0.5, 'learning_rate': 1, 'max_depth': 14, 'n_estimators': 50},\n",
       " mean: 0.29160, std: 0.01743, params: {'gamma': 0.5, 'learning_rate': 1, 'max_depth': 14, 'n_estimators': 100},\n",
       " mean: 0.29160, std: 0.01743, params: {'gamma': 0.5, 'learning_rate': 1, 'max_depth': 14, 'n_estimators': 150},\n",
       " mean: 0.29160, std: 0.01743, params: {'gamma': 0.5, 'learning_rate': 1, 'max_depth': 14, 'n_estimators': 200},\n",
       " mean: 0.26837, std: 0.00561, params: {'gamma': 0.5, 'learning_rate': 1, 'max_depth': 15, 'n_estimators': 50},\n",
       " mean: 0.26837, std: 0.00561, params: {'gamma': 0.5, 'learning_rate': 1, 'max_depth': 15, 'n_estimators': 100},\n",
       " mean: 0.26837, std: 0.00561, params: {'gamma': 0.5, 'learning_rate': 1, 'max_depth': 15, 'n_estimators': 150},\n",
       " mean: 0.26837, std: 0.00561, params: {'gamma': 0.5, 'learning_rate': 1, 'max_depth': 15, 'n_estimators': 200},\n",
       " mean: 0.54912, std: 0.00591, params: {'gamma': 1, 'learning_rate': 0.5, 'max_depth': 1, 'n_estimators': 50},\n",
       " mean: 0.54897, std: 0.00524, params: {'gamma': 1, 'learning_rate': 0.5, 'max_depth': 1, 'n_estimators': 100},\n",
       " mean: 0.54874, std: 0.00484, params: {'gamma': 1, 'learning_rate': 0.5, 'max_depth': 1, 'n_estimators': 150},\n",
       " mean: 0.54798, std: 0.00434, params: {'gamma': 1, 'learning_rate': 0.5, 'max_depth': 1, 'n_estimators': 200},\n",
       " mean: 0.57521, std: 0.00349, params: {'gamma': 1, 'learning_rate': 0.5, 'max_depth': 2, 'n_estimators': 50},\n",
       " mean: 0.55996, std: 0.00210, params: {'gamma': 1, 'learning_rate': 0.5, 'max_depth': 2, 'n_estimators': 100},\n",
       " mean: 0.54890, std: 0.00025, params: {'gamma': 1, 'learning_rate': 0.5, 'max_depth': 2, 'n_estimators': 150},\n",
       " mean: 0.53628, std: 0.00524, params: {'gamma': 1, 'learning_rate': 0.5, 'max_depth': 2, 'n_estimators': 200},\n",
       " mean: 0.55383, std: 0.00774, params: {'gamma': 1, 'learning_rate': 0.5, 'max_depth': 3, 'n_estimators': 50},\n",
       " mean: 0.52265, std: 0.00917, params: {'gamma': 1, 'learning_rate': 0.5, 'max_depth': 3, 'n_estimators': 100},\n",
       " mean: 0.50545, std: 0.01324, params: {'gamma': 1, 'learning_rate': 0.5, 'max_depth': 3, 'n_estimators': 150},\n",
       " mean: 0.48862, std: 0.00772, params: {'gamma': 1, 'learning_rate': 0.5, 'max_depth': 3, 'n_estimators': 200},\n",
       " mean: 0.53001, std: 0.01130, params: {'gamma': 1, 'learning_rate': 0.5, 'max_depth': 4, 'n_estimators': 50},\n",
       " mean: 0.49842, std: 0.01211, params: {'gamma': 1, 'learning_rate': 0.5, 'max_depth': 4, 'n_estimators': 100},\n",
       " mean: 0.47823, std: 0.01394, params: {'gamma': 1, 'learning_rate': 0.5, 'max_depth': 4, 'n_estimators': 150},\n",
       " mean: 0.46218, std: 0.01417, params: {'gamma': 1, 'learning_rate': 0.5, 'max_depth': 4, 'n_estimators': 200},\n",
       " mean: 0.51046, std: 0.01448, params: {'gamma': 1, 'learning_rate': 0.5, 'max_depth': 5, 'n_estimators': 50},\n",
       " mean: 0.47120, std: 0.01138, params: {'gamma': 1, 'learning_rate': 0.5, 'max_depth': 5, 'n_estimators': 100},\n",
       " mean: 0.45299, std: 0.01310, params: {'gamma': 1, 'learning_rate': 0.5, 'max_depth': 5, 'n_estimators': 150},\n",
       " mean: 0.44136, std: 0.01544, params: {'gamma': 1, 'learning_rate': 0.5, 'max_depth': 5, 'n_estimators': 200},\n",
       " mean: 0.46381, std: 0.00168, params: {'gamma': 1, 'learning_rate': 0.5, 'max_depth': 6, 'n_estimators': 50},\n",
       " mean: 0.43158, std: 0.00547, params: {'gamma': 1, 'learning_rate': 0.5, 'max_depth': 6, 'n_estimators': 100},\n",
       " mean: 0.41125, std: 0.00736, params: {'gamma': 1, 'learning_rate': 0.5, 'max_depth': 6, 'n_estimators': 150},\n",
       " mean: 0.40296, std: 0.00929, params: {'gamma': 1, 'learning_rate': 0.5, 'max_depth': 6, 'n_estimators': 200},\n",
       " mean: 0.46454, std: 0.00830, params: {'gamma': 1, 'learning_rate': 0.5, 'max_depth': 7, 'n_estimators': 50},\n",
       " mean: 0.43236, std: 0.00715, params: {'gamma': 1, 'learning_rate': 0.5, 'max_depth': 7, 'n_estimators': 100},\n",
       " mean: 0.42085, std: 0.00516, params: {'gamma': 1, 'learning_rate': 0.5, 'max_depth': 7, 'n_estimators': 150},\n",
       " mean: 0.41642, std: 0.00539, params: {'gamma': 1, 'learning_rate': 0.5, 'max_depth': 7, 'n_estimators': 200},\n",
       " mean: 0.43703, std: 0.00606, params: {'gamma': 1, 'learning_rate': 0.5, 'max_depth': 8, 'n_estimators': 50},\n",
       " mean: 0.41539, std: 0.00245, params: {'gamma': 1, 'learning_rate': 0.5, 'max_depth': 8, 'n_estimators': 100},\n",
       " mean: 0.41080, std: 0.00287, params: {'gamma': 1, 'learning_rate': 0.5, 'max_depth': 8, 'n_estimators': 150},\n",
       " mean: 0.40967, std: 0.00281, params: {'gamma': 1, 'learning_rate': 0.5, 'max_depth': 8, 'n_estimators': 200},\n",
       " mean: 0.42369, std: 0.01762, params: {'gamma': 1, 'learning_rate': 0.5, 'max_depth': 9, 'n_estimators': 50},\n",
       " mean: 0.41229, std: 0.01701, params: {'gamma': 1, 'learning_rate': 0.5, 'max_depth': 9, 'n_estimators': 100},\n",
       " mean: 0.40984, std: 0.01711, params: {'gamma': 1, 'learning_rate': 0.5, 'max_depth': 9, 'n_estimators': 150},\n",
       " mean: 0.40939, std: 0.01717, params: {'gamma': 1, 'learning_rate': 0.5, 'max_depth': 9, 'n_estimators': 200},\n",
       " mean: 0.42944, std: 0.00422, params: {'gamma': 1, 'learning_rate': 0.5, 'max_depth': 10, 'n_estimators': 50},\n",
       " mean: 0.42316, std: 0.00222, params: {'gamma': 1, 'learning_rate': 0.5, 'max_depth': 10, 'n_estimators': 100},\n",
       " mean: 0.42227, std: 0.00217, params: {'gamma': 1, 'learning_rate': 0.5, 'max_depth': 10, 'n_estimators': 150},\n",
       " mean: 0.42217, std: 0.00219, params: {'gamma': 1, 'learning_rate': 0.5, 'max_depth': 10, 'n_estimators': 200},\n",
       " mean: 0.41715, std: 0.00655, params: {'gamma': 1, 'learning_rate': 0.5, 'max_depth': 11, 'n_estimators': 50},\n",
       " mean: 0.41425, std: 0.00695, params: {'gamma': 1, 'learning_rate': 0.5, 'max_depth': 11, 'n_estimators': 100},\n",
       " mean: 0.41401, std: 0.00684, params: {'gamma': 1, 'learning_rate': 0.5, 'max_depth': 11, 'n_estimators': 150},\n",
       " mean: 0.41400, std: 0.00684, params: {'gamma': 1, 'learning_rate': 0.5, 'max_depth': 11, 'n_estimators': 200},\n",
       " mean: 0.41344, std: 0.00912, params: {'gamma': 1, 'learning_rate': 0.5, 'max_depth': 12, 'n_estimators': 50},\n",
       " mean: 0.41232, std: 0.00909, params: {'gamma': 1, 'learning_rate': 0.5, 'max_depth': 12, 'n_estimators': 100},\n",
       " mean: 0.41226, std: 0.00912, params: {'gamma': 1, 'learning_rate': 0.5, 'max_depth': 12, 'n_estimators': 150},\n",
       " mean: 0.41226, std: 0.00912, params: {'gamma': 1, 'learning_rate': 0.5, 'max_depth': 12, 'n_estimators': 200},\n",
       " mean: 0.41759, std: 0.00673, params: {'gamma': 1, 'learning_rate': 0.5, 'max_depth': 13, 'n_estimators': 50},\n",
       " mean: 0.41707, std: 0.00687, params: {'gamma': 1, 'learning_rate': 0.5, 'max_depth': 13, 'n_estimators': 100},\n",
       " mean: 0.41706, std: 0.00687, params: {'gamma': 1, 'learning_rate': 0.5, 'max_depth': 13, 'n_estimators': 150},\n",
       " mean: 0.41706, std: 0.00687, params: {'gamma': 1, 'learning_rate': 0.5, 'max_depth': 13, 'n_estimators': 200},\n",
       " mean: 0.41948, std: 0.00928, params: {'gamma': 1, 'learning_rate': 0.5, 'max_depth': 14, 'n_estimators': 50},\n",
       " mean: 0.41921, std: 0.00919, params: {'gamma': 1, 'learning_rate': 0.5, 'max_depth': 14, 'n_estimators': 100},\n",
       " mean: 0.41921, std: 0.00919, params: {'gamma': 1, 'learning_rate': 0.5, 'max_depth': 14, 'n_estimators': 150},\n",
       " mean: 0.41921, std: 0.00919, params: {'gamma': 1, 'learning_rate': 0.5, 'max_depth': 14, 'n_estimators': 200},\n",
       " mean: 0.41040, std: 0.00851, params: {'gamma': 1, 'learning_rate': 0.5, 'max_depth': 15, 'n_estimators': 50},\n",
       " mean: 0.41034, std: 0.00850, params: {'gamma': 1, 'learning_rate': 0.5, 'max_depth': 15, 'n_estimators': 100},\n",
       " mean: 0.41034, std: 0.00850, params: {'gamma': 1, 'learning_rate': 0.5, 'max_depth': 15, 'n_estimators': 150},\n",
       " mean: 0.41034, std: 0.00850, params: {'gamma': 1, 'learning_rate': 0.5, 'max_depth': 15, 'n_estimators': 200},\n",
       " mean: 0.55042, std: 0.00669, params: {'gamma': 1, 'learning_rate': 0.75, 'max_depth': 1, 'n_estimators': 50},\n",
       " mean: 0.55022, std: 0.00587, params: {'gamma': 1, 'learning_rate': 0.75, 'max_depth': 1, 'n_estimators': 100},\n",
       " mean: 0.54904, std: 0.00534, params: {'gamma': 1, 'learning_rate': 0.75, 'max_depth': 1, 'n_estimators': 150},\n",
       " mean: 0.54704, std: 0.00512, params: {'gamma': 1, 'learning_rate': 0.75, 'max_depth': 1, 'n_estimators': 200},\n",
       " mean: 0.55043, std: 0.00182, params: {'gamma': 1, 'learning_rate': 0.75, 'max_depth': 2, 'n_estimators': 50},\n",
       " mean: 0.53123, std: 0.00268, params: {'gamma': 1, 'learning_rate': 0.75, 'max_depth': 2, 'n_estimators': 100},\n",
       " mean: 0.51074, std: 0.00226, params: {'gamma': 1, 'learning_rate': 0.75, 'max_depth': 2, 'n_estimators': 150},\n",
       " mean: 0.50018, std: 0.00840, params: {'gamma': 1, 'learning_rate': 0.75, 'max_depth': 2, 'n_estimators': 200},\n",
       " mean: 0.51765, std: 0.01090, params: {'gamma': 1, 'learning_rate': 0.75, 'max_depth': 3, 'n_estimators': 50},\n",
       " mean: 0.47836, std: 0.00717, params: {'gamma': 1, 'learning_rate': 0.75, 'max_depth': 3, 'n_estimators': 100},\n",
       " mean: 0.46083, std: 0.00529, params: {'gamma': 1, 'learning_rate': 0.75, 'max_depth': 3, 'n_estimators': 150},\n",
       " mean: 0.44004, std: 0.00625, params: {'gamma': 1, 'learning_rate': 0.75, 'max_depth': 3, 'n_estimators': 200},\n",
       " mean: 0.46345, std: 0.01573, params: {'gamma': 1, 'learning_rate': 0.75, 'max_depth': 4, 'n_estimators': 50},\n",
       " mean: 0.42275, std: 0.01646, params: {'gamma': 1, 'learning_rate': 0.75, 'max_depth': 4, 'n_estimators': 100},\n",
       " mean: 0.39959, std: 0.01115, params: {'gamma': 1, 'learning_rate': 0.75, 'max_depth': 4, 'n_estimators': 150},\n",
       " mean: 0.38167, std: 0.01138, params: {'gamma': 1, 'learning_rate': 0.75, 'max_depth': 4, 'n_estimators': 200},\n",
       " mean: 0.43176, std: 0.01556, params: {'gamma': 1, 'learning_rate': 0.75, 'max_depth': 5, 'n_estimators': 50},\n",
       " mean: 0.38344, std: 0.01963, params: {'gamma': 1, 'learning_rate': 0.75, 'max_depth': 5, 'n_estimators': 100},\n",
       " mean: 0.35845, std: 0.02524, params: {'gamma': 1, 'learning_rate': 0.75, 'max_depth': 5, 'n_estimators': 150},\n",
       " mean: 0.34891, std: 0.02695, params: {'gamma': 1, 'learning_rate': 0.75, 'max_depth': 5, 'n_estimators': 200},\n",
       " mean: 0.41012, std: 0.01304, params: {'gamma': 1, 'learning_rate': 0.75, 'max_depth': 6, 'n_estimators': 50},\n",
       " mean: 0.36963, std: 0.01513, params: {'gamma': 1, 'learning_rate': 0.75, 'max_depth': 6, 'n_estimators': 100},\n",
       " mean: 0.35553, std: 0.01481, params: {'gamma': 1, 'learning_rate': 0.75, 'max_depth': 6, 'n_estimators': 150},\n",
       " mean: 0.35014, std: 0.01287, params: {'gamma': 1, 'learning_rate': 0.75, 'max_depth': 6, 'n_estimators': 200},\n",
       " mean: 0.37466, std: 0.01005, params: {'gamma': 1, 'learning_rate': 0.75, 'max_depth': 7, 'n_estimators': 50},\n",
       " mean: 0.35110, std: 0.01299, params: {'gamma': 1, 'learning_rate': 0.75, 'max_depth': 7, 'n_estimators': 100},\n",
       " mean: 0.34637, std: 0.01124, params: {'gamma': 1, 'learning_rate': 0.75, 'max_depth': 7, 'n_estimators': 150},\n",
       " mean: 0.34551, std: 0.01064, params: {'gamma': 1, 'learning_rate': 0.75, 'max_depth': 7, 'n_estimators': 200},\n",
       " mean: 0.37017, std: 0.03709, params: {'gamma': 1, 'learning_rate': 0.75, 'max_depth': 8, 'n_estimators': 50},\n",
       " mean: 0.35928, std: 0.03822, params: {'gamma': 1, 'learning_rate': 0.75, 'max_depth': 8, 'n_estimators': 100},\n",
       " mean: 0.35809, std: 0.03774, params: {'gamma': 1, 'learning_rate': 0.75, 'max_depth': 8, 'n_estimators': 150},\n",
       " mean: 0.35783, std: 0.03780, params: {'gamma': 1, 'learning_rate': 0.75, 'max_depth': 8, 'n_estimators': 200},\n",
       " mean: 0.36400, std: 0.00092, params: {'gamma': 1, 'learning_rate': 0.75, 'max_depth': 9, 'n_estimators': 50},\n",
       " mean: 0.35941, std: 0.00254, params: {'gamma': 1, 'learning_rate': 0.75, 'max_depth': 9, 'n_estimators': 100},\n",
       " mean: 0.35899, std: 0.00259, params: {'gamma': 1, 'learning_rate': 0.75, 'max_depth': 9, 'n_estimators': 150},\n",
       " mean: 0.35897, std: 0.00260, params: {'gamma': 1, 'learning_rate': 0.75, 'max_depth': 9, 'n_estimators': 200},\n",
       " mean: 0.37387, std: 0.00213, params: {'gamma': 1, 'learning_rate': 0.75, 'max_depth': 10, 'n_estimators': 50},\n",
       " mean: 0.37271, std: 0.00250, params: {'gamma': 1, 'learning_rate': 0.75, 'max_depth': 10, 'n_estimators': 100},\n",
       " mean: 0.37265, std: 0.00254, params: {'gamma': 1, 'learning_rate': 0.75, 'max_depth': 10, 'n_estimators': 150},\n",
       " mean: 0.37265, std: 0.00254, params: {'gamma': 1, 'learning_rate': 0.75, 'max_depth': 10, 'n_estimators': 200},\n",
       " mean: 0.35685, std: 0.00688, params: {'gamma': 1, 'learning_rate': 0.75, 'max_depth': 11, 'n_estimators': 50},\n",
       " mean: 0.35653, std: 0.00683, params: {'gamma': 1, 'learning_rate': 0.75, 'max_depth': 11, 'n_estimators': 100},\n",
       " mean: 0.35653, std: 0.00683, params: {'gamma': 1, 'learning_rate': 0.75, 'max_depth': 11, 'n_estimators': 150},\n",
       " mean: 0.35653, std: 0.00683, params: {'gamma': 1, 'learning_rate': 0.75, 'max_depth': 11, 'n_estimators': 200},\n",
       " mean: 0.37055, std: 0.01012, params: {'gamma': 1, 'learning_rate': 0.75, 'max_depth': 12, 'n_estimators': 50},\n",
       " mean: 0.37048, std: 0.01012, params: {'gamma': 1, 'learning_rate': 0.75, 'max_depth': 12, 'n_estimators': 100},\n",
       " mean: 0.37048, std: 0.01012, params: {'gamma': 1, 'learning_rate': 0.75, 'max_depth': 12, 'n_estimators': 150},\n",
       " mean: 0.37048, std: 0.01012, params: {'gamma': 1, 'learning_rate': 0.75, 'max_depth': 12, 'n_estimators': 200},\n",
       " mean: 0.36652, std: 0.01740, params: {'gamma': 1, 'learning_rate': 0.75, 'max_depth': 13, 'n_estimators': 50},\n",
       " mean: 0.36648, std: 0.01739, params: {'gamma': 1, 'learning_rate': 0.75, 'max_depth': 13, 'n_estimators': 100},\n",
       " mean: 0.36648, std: 0.01739, params: {'gamma': 1, 'learning_rate': 0.75, 'max_depth': 13, 'n_estimators': 150},\n",
       " mean: 0.36648, std: 0.01739, params: {'gamma': 1, 'learning_rate': 0.75, 'max_depth': 13, 'n_estimators': 200},\n",
       " mean: 0.35654, std: 0.01582, params: {'gamma': 1, 'learning_rate': 0.75, 'max_depth': 14, 'n_estimators': 50},\n",
       " mean: 0.35654, std: 0.01582, params: {'gamma': 1, 'learning_rate': 0.75, 'max_depth': 14, 'n_estimators': 100},\n",
       " mean: 0.35654, std: 0.01582, params: {'gamma': 1, 'learning_rate': 0.75, 'max_depth': 14, 'n_estimators': 150},\n",
       " mean: 0.35654, std: 0.01582, params: {'gamma': 1, 'learning_rate': 0.75, 'max_depth': 14, 'n_estimators': 200},\n",
       " mean: 0.35380, std: 0.00837, params: {'gamma': 1, 'learning_rate': 0.75, 'max_depth': 15, 'n_estimators': 50},\n",
       " mean: 0.35380, std: 0.00837, params: {'gamma': 1, 'learning_rate': 0.75, 'max_depth': 15, 'n_estimators': 100},\n",
       " mean: 0.35380, std: 0.00837, params: {'gamma': 1, 'learning_rate': 0.75, 'max_depth': 15, 'n_estimators': 150},\n",
       " mean: 0.35380, std: 0.00837, params: {'gamma': 1, 'learning_rate': 0.75, 'max_depth': 15, 'n_estimators': 200},\n",
       " mean: 0.54898, std: 0.00659, params: {'gamma': 1, 'learning_rate': 1, 'max_depth': 1, 'n_estimators': 50},\n",
       " mean: 0.54587, std: 0.00492, params: {'gamma': 1, 'learning_rate': 1, 'max_depth': 1, 'n_estimators': 100},\n",
       " mean: 0.54425, std: 0.00546, params: {'gamma': 1, 'learning_rate': 1, 'max_depth': 1, 'n_estimators': 150},\n",
       " mean: 0.54282, std: 0.00511, params: {'gamma': 1, 'learning_rate': 1, 'max_depth': 1, 'n_estimators': 200},\n",
       " mean: 0.54075, std: 0.00573, params: {'gamma': 1, 'learning_rate': 1, 'max_depth': 2, 'n_estimators': 50},\n",
       " mean: 0.51203, std: 0.00558, params: {'gamma': 1, 'learning_rate': 1, 'max_depth': 2, 'n_estimators': 100},\n",
       " mean: 0.49284, std: 0.00583, params: {'gamma': 1, 'learning_rate': 1, 'max_depth': 2, 'n_estimators': 150},\n",
       " mean: 0.47149, std: 0.01043, params: {'gamma': 1, 'learning_rate': 1, 'max_depth': 2, 'n_estimators': 200},\n",
       " mean: 0.48337, std: 0.00707, params: {'gamma': 1, 'learning_rate': 1, 'max_depth': 3, 'n_estimators': 50},\n",
       " mean: 0.43286, std: 0.00636, params: {'gamma': 1, 'learning_rate': 1, 'max_depth': 3, 'n_estimators': 100},\n",
       " mean: 0.39532, std: 0.01965, params: {'gamma': 1, 'learning_rate': 1, 'max_depth': 3, 'n_estimators': 150},\n",
       " mean: 0.37188, std: 0.02025, params: {'gamma': 1, 'learning_rate': 1, 'max_depth': 3, 'n_estimators': 200},\n",
       " mean: 0.40838, std: 0.01373, params: {'gamma': 1, 'learning_rate': 1, 'max_depth': 4, 'n_estimators': 50},\n",
       " mean: 0.35894, std: 0.02007, params: {'gamma': 1, 'learning_rate': 1, 'max_depth': 4, 'n_estimators': 100},\n",
       " mean: 0.31898, std: 0.01605, params: {'gamma': 1, 'learning_rate': 1, 'max_depth': 4, 'n_estimators': 150},\n",
       " mean: 0.29989, std: 0.01557, params: {'gamma': 1, 'learning_rate': 1, 'max_depth': 4, 'n_estimators': 200},\n",
       " mean: 0.37982, std: 0.01442, params: {'gamma': 1, 'learning_rate': 1, 'max_depth': 5, 'n_estimators': 50},\n",
       " mean: 0.32369, std: 0.01285, params: {'gamma': 1, 'learning_rate': 1, 'max_depth': 5, 'n_estimators': 100},\n",
       " mean: 0.29832, std: 0.01603, params: {'gamma': 1, 'learning_rate': 1, 'max_depth': 5, 'n_estimators': 150},\n",
       " mean: 0.28647, std: 0.01896, params: {'gamma': 1, 'learning_rate': 1, 'max_depth': 5, 'n_estimators': 200},\n",
       " mean: 0.30742, std: 0.00254, params: {'gamma': 1, 'learning_rate': 1, 'max_depth': 6, 'n_estimators': 50},\n",
       " mean: 0.27260, std: 0.00985, params: {'gamma': 1, 'learning_rate': 1, 'max_depth': 6, 'n_estimators': 100},\n",
       " mean: 0.26414, std: 0.00821, params: {'gamma': 1, 'learning_rate': 1, 'max_depth': 6, 'n_estimators': 150},\n",
       " mean: 0.26160, std: 0.00887, params: {'gamma': 1, 'learning_rate': 1, 'max_depth': 6, 'n_estimators': 200},\n",
       " mean: 0.31776, std: 0.00715, params: {'gamma': 1, 'learning_rate': 1, 'max_depth': 7, 'n_estimators': 50},\n",
       " mean: 0.29905, std: 0.00819, params: {'gamma': 1, 'learning_rate': 1, 'max_depth': 7, 'n_estimators': 100},\n",
       " mean: 0.29701, std: 0.00782, params: {'gamma': 1, 'learning_rate': 1, 'max_depth': 7, 'n_estimators': 150},\n",
       " mean: 0.29671, std: 0.00752, params: {'gamma': 1, 'learning_rate': 1, 'max_depth': 7, 'n_estimators': 200},\n",
       " mean: 0.27852, std: 0.01155, params: {'gamma': 1, 'learning_rate': 1, 'max_depth': 8, 'n_estimators': 50},\n",
       " mean: 0.27302, std: 0.01074, params: {'gamma': 1, 'learning_rate': 1, 'max_depth': 8, 'n_estimators': 100},\n",
       " mean: 0.27285, std: 0.01047, params: {'gamma': 1, 'learning_rate': 1, 'max_depth': 8, 'n_estimators': 150},\n",
       " mean: 0.27280, std: 0.01044, params: {'gamma': 1, 'learning_rate': 1, 'max_depth': 8, 'n_estimators': 200},\n",
       " mean: 0.26411, std: 0.01123, params: {'gamma': 1, 'learning_rate': 1, 'max_depth': 9, 'n_estimators': 50},\n",
       " mean: 0.26302, std: 0.01094, params: {'gamma': 1, 'learning_rate': 1, 'max_depth': 9, 'n_estimators': 100},\n",
       " mean: 0.26301, std: 0.01094, params: {'gamma': 1, 'learning_rate': 1, 'max_depth': 9, 'n_estimators': 150},\n",
       " mean: 0.26301, std: 0.01094, params: {'gamma': 1, 'learning_rate': 1, 'max_depth': 9, 'n_estimators': 200},\n",
       " mean: 0.27439, std: 0.02117, params: {'gamma': 1, 'learning_rate': 1, 'max_depth': 10, 'n_estimators': 50},\n",
       " mean: 0.27425, std: 0.02146, params: {'gamma': 1, 'learning_rate': 1, 'max_depth': 10, 'n_estimators': 100},\n",
       " mean: 0.27425, std: 0.02146, params: {'gamma': 1, 'learning_rate': 1, 'max_depth': 10, 'n_estimators': 150},\n",
       " mean: 0.27425, std: 0.02146, params: {'gamma': 1, 'learning_rate': 1, 'max_depth': 10, 'n_estimators': 200},\n",
       " mean: 0.30339, std: 0.00403, params: {'gamma': 1, 'learning_rate': 1, 'max_depth': 11, 'n_estimators': 50},\n",
       " mean: 0.30330, std: 0.00403, params: {'gamma': 1, 'learning_rate': 1, 'max_depth': 11, 'n_estimators': 100},\n",
       " mean: 0.30330, std: 0.00403, params: {'gamma': 1, 'learning_rate': 1, 'max_depth': 11, 'n_estimators': 150},\n",
       " mean: 0.30330, std: 0.00403, params: {'gamma': 1, 'learning_rate': 1, 'max_depth': 11, 'n_estimators': 200},\n",
       " mean: 0.26507, std: 0.00615, params: {'gamma': 1, 'learning_rate': 1, 'max_depth': 12, 'n_estimators': 50},\n",
       " mean: 0.26507, std: 0.00616, params: {'gamma': 1, 'learning_rate': 1, 'max_depth': 12, 'n_estimators': 100},\n",
       " mean: 0.26507, std: 0.00616, params: {'gamma': 1, 'learning_rate': 1, 'max_depth': 12, 'n_estimators': 150},\n",
       " mean: 0.26507, std: 0.00616, params: {'gamma': 1, 'learning_rate': 1, 'max_depth': 12, 'n_estimators': 200},\n",
       " mean: 0.27533, std: 0.01778, params: {'gamma': 1, 'learning_rate': 1, 'max_depth': 13, 'n_estimators': 50},\n",
       " mean: 0.27533, std: 0.01778, params: {'gamma': 1, 'learning_rate': 1, 'max_depth': 13, 'n_estimators': 100},\n",
       " mean: 0.27533, std: 0.01778, params: {'gamma': 1, 'learning_rate': 1, 'max_depth': 13, 'n_estimators': 150},\n",
       " mean: 0.27533, std: 0.01778, params: {'gamma': 1, 'learning_rate': 1, 'max_depth': 13, 'n_estimators': 200},\n",
       " mean: 0.29149, std: 0.01780, params: {'gamma': 1, 'learning_rate': 1, 'max_depth': 14, 'n_estimators': 50},\n",
       " mean: 0.29149, std: 0.01780, params: {'gamma': 1, 'learning_rate': 1, 'max_depth': 14, 'n_estimators': 100},\n",
       " mean: 0.29149, std: 0.01780, params: {'gamma': 1, 'learning_rate': 1, 'max_depth': 14, 'n_estimators': 150},\n",
       " mean: 0.29149, std: 0.01780, params: {'gamma': 1, 'learning_rate': 1, 'max_depth': 14, 'n_estimators': 200},\n",
       " mean: 0.27096, std: 0.00834, params: {'gamma': 1, 'learning_rate': 1, 'max_depth': 15, 'n_estimators': 50},\n",
       " mean: 0.27096, std: 0.00834, params: {'gamma': 1, 'learning_rate': 1, 'max_depth': 15, 'n_estimators': 100},\n",
       " mean: 0.27096, std: 0.00834, params: {'gamma': 1, 'learning_rate': 1, 'max_depth': 15, 'n_estimators': 150},\n",
       " mean: 0.27096, std: 0.00834, params: {'gamma': 1, 'learning_rate': 1, 'max_depth': 15, 'n_estimators': 200}]"
      ]
     },
     "execution_count": 58,
     "metadata": {},
     "output_type": "execute_result"
    }
   ],
   "source": [
    "gxgf.grid_scores_"
   ]
  },
  {
   "cell_type": "code",
   "execution_count": 68,
   "metadata": {},
   "outputs": [],
   "source": [
    "original_values=y_test"
   ]
  },
  {
   "cell_type": "code",
   "execution_count": 60,
   "metadata": {},
   "outputs": [],
   "source": [
    "test_x=np.array(X_test)"
   ]
  },
  {
   "cell_type": "code",
   "execution_count": 61,
   "metadata": {},
   "outputs": [],
   "source": [
    "test_x=test_x.astype(float)"
   ]
  },
  {
   "cell_type": "code",
   "execution_count": 63,
   "metadata": {},
   "outputs": [],
   "source": [
    "predicted=gxgf.predict(test_x)"
   ]
  },
  {
   "cell_type": "code",
   "execution_count": 69,
   "metadata": {},
   "outputs": [],
   "source": [
    "from sklearn.metrics import mean_squared_error\n",
    "from math import sqrt\n",
    "\n",
    "rms = sqrt(mean_squared_error(original_values, predicted))"
   ]
  },
  {
   "cell_type": "code",
   "execution_count": 70,
   "metadata": {},
   "outputs": [
    {
     "name": "stdout",
     "output_type": "stream",
     "text": [
      "1080.6503241122773\n"
     ]
    }
   ],
   "source": [
    "print(rms)"
   ]
  },
  {
   "cell_type": "code",
   "execution_count": null,
   "metadata": {},
   "outputs": [],
   "source": []
  }
 ],
 "metadata": {
  "kernelspec": {
   "display_name": "Python 3",
   "language": "python",
   "name": "python3"
  },
  "language_info": {
   "codemirror_mode": {
    "name": "ipython",
    "version": 3
   },
   "file_extension": ".py",
   "mimetype": "text/x-python",
   "name": "python",
   "nbconvert_exporter": "python",
   "pygments_lexer": "ipython3",
   "version": "3.6.4"
  }
 },
 "nbformat": 4,
 "nbformat_minor": 2
}
